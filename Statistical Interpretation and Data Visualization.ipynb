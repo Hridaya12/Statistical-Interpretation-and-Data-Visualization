{
  "cells": [
    {
      "cell_type": "markdown",
      "metadata": {
        "id": "tGdDMRjWZLHE"
      },
      "source": [
        "## **Neccesaary Imports and Paths**"
      ]
    },
    {
      "cell_type": "code",
      "execution_count": 1,
      "metadata": {
        "id": "LS8QORNBckvI"
      },
      "outputs": [],
      "source": [
        "import numpy as np\n",
        "import matplotlib.pyplot as plt\n",
        "import seaborn as sns\n",
        "import pandas as pd"
      ]
    },
    {
      "cell_type": "code",
      "execution_count": 2,
      "metadata": {
        "colab": {
          "base_uri": "https://localhost:8080/"
        },
        "id": "kWnFNOIoc7aj",
        "outputId": "25a8312d-949b-4bbd-d889-684a969a3c3c"
      },
      "outputs": [
        {
          "name": "stdout",
          "output_type": "stream",
          "text": [
            "Mounted at /content/drive\n"
          ]
        }
      ],
      "source": [
        "from google.colab import drive\n",
        "drive.mount('/content/drive')"
      ]
    },
    {
      "cell_type": "code",
      "execution_count": 3,
      "metadata": {
        "id": "9InGntN3dJ4S"
      },
      "outputs": [],
      "source": [
        "coursework_hridaya=\"/content/drive/MyDrive/AI_assignment/performance.csv\""
      ]
    },
    {
      "cell_type": "markdown",
      "metadata": {
        "id": "0qJkidM7-y7I"
      },
      "source": [
        "## **Data Understanding and Cleaning**\n",
        "\n",
        "\n"
      ]
    },
    {
      "cell_type": "markdown",
      "metadata": {
        "id": "rT0OENerdpuj"
      },
      "source": [
        "1. Use pandas to upload your data.\n"
      ]
    },
    {
      "cell_type": "code",
      "execution_count": 4,
      "metadata": {
        "colab": {
          "base_uri": "https://localhost:8080/",
          "height": 641
        },
        "id": "ZhUKzu4NdVbj",
        "outputId": "302b4a7b-edf5-41fa-b686-b316f679f41e"
      },
      "outputs": [
        {
          "data": {
            "text/html": [
              "\n",
              "  <div id=\"df-0150e5f4-91e6-4b63-ae26-5c42f763fd3d\">\n",
              "    <div class=\"colab-df-container\">\n",
              "      <div>\n",
              "<style scoped>\n",
              "    .dataframe tbody tr th:only-of-type {\n",
              "        vertical-align: middle;\n",
              "    }\n",
              "\n",
              "    .dataframe tbody tr th {\n",
              "        vertical-align: top;\n",
              "    }\n",
              "\n",
              "    .dataframe thead th {\n",
              "        text-align: right;\n",
              "    }\n",
              "</style>\n",
              "<table border=\"1\" class=\"dataframe\">\n",
              "  <thead>\n",
              "    <tr style=\"text-align: right;\">\n",
              "      <th></th>\n",
              "      <th>school</th>\n",
              "      <th>sex</th>\n",
              "      <th>age</th>\n",
              "      <th>address</th>\n",
              "      <th>famsize</th>\n",
              "      <th>Pstatus</th>\n",
              "      <th>Medu</th>\n",
              "      <th>Fedu</th>\n",
              "      <th>Mjob</th>\n",
              "      <th>Fjob</th>\n",
              "      <th>...</th>\n",
              "      <th>famrel</th>\n",
              "      <th>freetime</th>\n",
              "      <th>goout</th>\n",
              "      <th>Dalc</th>\n",
              "      <th>Walc</th>\n",
              "      <th>health</th>\n",
              "      <th>absences</th>\n",
              "      <th>G1</th>\n",
              "      <th>G2</th>\n",
              "      <th>G3</th>\n",
              "    </tr>\n",
              "  </thead>\n",
              "  <tbody>\n",
              "    <tr>\n",
              "      <th>0</th>\n",
              "      <td>GP</td>\n",
              "      <td>F</td>\n",
              "      <td>18</td>\n",
              "      <td>U</td>\n",
              "      <td>GT3</td>\n",
              "      <td>A</td>\n",
              "      <td>higher education</td>\n",
              "      <td>higher education</td>\n",
              "      <td>at_home</td>\n",
              "      <td>teacher</td>\n",
              "      <td>...</td>\n",
              "      <td>very good</td>\n",
              "      <td>medium</td>\n",
              "      <td>high</td>\n",
              "      <td>very low</td>\n",
              "      <td>very low</td>\n",
              "      <td>good</td>\n",
              "      <td>6</td>\n",
              "      <td>5</td>\n",
              "      <td>6</td>\n",
              "      <td>6</td>\n",
              "    </tr>\n",
              "    <tr>\n",
              "      <th>1</th>\n",
              "      <td>GP</td>\n",
              "      <td>F</td>\n",
              "      <td>17</td>\n",
              "      <td>U</td>\n",
              "      <td>GT3</td>\n",
              "      <td>T</td>\n",
              "      <td>primary education (4th grade)</td>\n",
              "      <td>primary education (4th grade)</td>\n",
              "      <td>at_home</td>\n",
              "      <td>other</td>\n",
              "      <td>...</td>\n",
              "      <td>excellent</td>\n",
              "      <td>medium</td>\n",
              "      <td>medium</td>\n",
              "      <td>very low</td>\n",
              "      <td>very low</td>\n",
              "      <td>good</td>\n",
              "      <td>4</td>\n",
              "      <td>5</td>\n",
              "      <td>5</td>\n",
              "      <td>6</td>\n",
              "    </tr>\n",
              "    <tr>\n",
              "      <th>2</th>\n",
              "      <td>GP</td>\n",
              "      <td>F</td>\n",
              "      <td>15</td>\n",
              "      <td>U</td>\n",
              "      <td>LE3</td>\n",
              "      <td>T</td>\n",
              "      <td>primary education (4th grade)</td>\n",
              "      <td>primary education (4th grade)</td>\n",
              "      <td>at_home</td>\n",
              "      <td>other</td>\n",
              "      <td>...</td>\n",
              "      <td>very good</td>\n",
              "      <td>medium</td>\n",
              "      <td>low</td>\n",
              "      <td>low</td>\n",
              "      <td>medium</td>\n",
              "      <td>good</td>\n",
              "      <td>10</td>\n",
              "      <td>7</td>\n",
              "      <td>8</td>\n",
              "      <td>10</td>\n",
              "    </tr>\n",
              "    <tr>\n",
              "      <th>3</th>\n",
              "      <td>GP</td>\n",
              "      <td>F</td>\n",
              "      <td>15</td>\n",
              "      <td>U</td>\n",
              "      <td>GT3</td>\n",
              "      <td>T</td>\n",
              "      <td>higher education</td>\n",
              "      <td>5th to 9th grade</td>\n",
              "      <td>health</td>\n",
              "      <td>services</td>\n",
              "      <td>...</td>\n",
              "      <td>good</td>\n",
              "      <td>low</td>\n",
              "      <td>low</td>\n",
              "      <td>very low</td>\n",
              "      <td>very low</td>\n",
              "      <td>excellent</td>\n",
              "      <td>2</td>\n",
              "      <td>15</td>\n",
              "      <td>14</td>\n",
              "      <td>15</td>\n",
              "    </tr>\n",
              "    <tr>\n",
              "      <th>4</th>\n",
              "      <td>GP</td>\n",
              "      <td>F</td>\n",
              "      <td>16</td>\n",
              "      <td>U</td>\n",
              "      <td>GT3</td>\n",
              "      <td>T</td>\n",
              "      <td>secondary education</td>\n",
              "      <td>secondary education</td>\n",
              "      <td>other</td>\n",
              "      <td>other</td>\n",
              "      <td>...</td>\n",
              "      <td>very good</td>\n",
              "      <td>medium</td>\n",
              "      <td>low</td>\n",
              "      <td>very low</td>\n",
              "      <td>low</td>\n",
              "      <td>excellent</td>\n",
              "      <td>4</td>\n",
              "      <td>6</td>\n",
              "      <td>10</td>\n",
              "      <td>10</td>\n",
              "    </tr>\n",
              "    <tr>\n",
              "      <th>...</th>\n",
              "      <td>...</td>\n",
              "      <td>...</td>\n",
              "      <td>...</td>\n",
              "      <td>...</td>\n",
              "      <td>...</td>\n",
              "      <td>...</td>\n",
              "      <td>...</td>\n",
              "      <td>...</td>\n",
              "      <td>...</td>\n",
              "      <td>...</td>\n",
              "      <td>...</td>\n",
              "      <td>...</td>\n",
              "      <td>...</td>\n",
              "      <td>...</td>\n",
              "      <td>...</td>\n",
              "      <td>...</td>\n",
              "      <td>...</td>\n",
              "      <td>...</td>\n",
              "      <td>...</td>\n",
              "      <td>...</td>\n",
              "      <td>...</td>\n",
              "    </tr>\n",
              "    <tr>\n",
              "      <th>390</th>\n",
              "      <td>MS</td>\n",
              "      <td>M</td>\n",
              "      <td>20</td>\n",
              "      <td>U</td>\n",
              "      <td>LE3</td>\n",
              "      <td>A</td>\n",
              "      <td>5th to 9th grade</td>\n",
              "      <td>5th to 9th grade</td>\n",
              "      <td>services</td>\n",
              "      <td>services</td>\n",
              "      <td>...</td>\n",
              "      <td>excellent</td>\n",
              "      <td>very high</td>\n",
              "      <td>high</td>\n",
              "      <td>high</td>\n",
              "      <td>very high</td>\n",
              "      <td>very good</td>\n",
              "      <td>11</td>\n",
              "      <td>9</td>\n",
              "      <td>9</td>\n",
              "      <td>9</td>\n",
              "    </tr>\n",
              "    <tr>\n",
              "      <th>391</th>\n",
              "      <td>MS</td>\n",
              "      <td>M</td>\n",
              "      <td>17</td>\n",
              "      <td>U</td>\n",
              "      <td>LE3</td>\n",
              "      <td>T</td>\n",
              "      <td>secondary education</td>\n",
              "      <td>primary education (4th grade)</td>\n",
              "      <td>services</td>\n",
              "      <td>services</td>\n",
              "      <td>...</td>\n",
              "      <td>bad</td>\n",
              "      <td>high</td>\n",
              "      <td>very high</td>\n",
              "      <td>medium</td>\n",
              "      <td>high</td>\n",
              "      <td>bad</td>\n",
              "      <td>3</td>\n",
              "      <td>14</td>\n",
              "      <td>16</td>\n",
              "      <td>16</td>\n",
              "    </tr>\n",
              "    <tr>\n",
              "      <th>392</th>\n",
              "      <td>MS</td>\n",
              "      <td>M</td>\n",
              "      <td>21</td>\n",
              "      <td>R</td>\n",
              "      <td>GT3</td>\n",
              "      <td>T</td>\n",
              "      <td>primary education (4th grade)</td>\n",
              "      <td>primary education (4th grade)</td>\n",
              "      <td>other</td>\n",
              "      <td>other</td>\n",
              "      <td>...</td>\n",
              "      <td>excellent</td>\n",
              "      <td>very high</td>\n",
              "      <td>medium</td>\n",
              "      <td>medium</td>\n",
              "      <td>medium</td>\n",
              "      <td>good</td>\n",
              "      <td>3</td>\n",
              "      <td>10</td>\n",
              "      <td>8</td>\n",
              "      <td>7</td>\n",
              "    </tr>\n",
              "    <tr>\n",
              "      <th>393</th>\n",
              "      <td>MS</td>\n",
              "      <td>M</td>\n",
              "      <td>18</td>\n",
              "      <td>R</td>\n",
              "      <td>LE3</td>\n",
              "      <td>T</td>\n",
              "      <td>secondary education</td>\n",
              "      <td>5th to 9th grade</td>\n",
              "      <td>services</td>\n",
              "      <td>other</td>\n",
              "      <td>...</td>\n",
              "      <td>very good</td>\n",
              "      <td>high</td>\n",
              "      <td>very low</td>\n",
              "      <td>medium</td>\n",
              "      <td>high</td>\n",
              "      <td>excellent</td>\n",
              "      <td>0</td>\n",
              "      <td>11</td>\n",
              "      <td>12</td>\n",
              "      <td>10</td>\n",
              "    </tr>\n",
              "    <tr>\n",
              "      <th>394</th>\n",
              "      <td>MS</td>\n",
              "      <td>M</td>\n",
              "      <td>19</td>\n",
              "      <td>U</td>\n",
              "      <td>LE3</td>\n",
              "      <td>T</td>\n",
              "      <td>primary education (4th grade)</td>\n",
              "      <td>primary education (4th grade)</td>\n",
              "      <td>other</td>\n",
              "      <td>at_home</td>\n",
              "      <td>...</td>\n",
              "      <td>good</td>\n",
              "      <td>low</td>\n",
              "      <td>medium</td>\n",
              "      <td>medium</td>\n",
              "      <td>medium</td>\n",
              "      <td>excellent</td>\n",
              "      <td>5</td>\n",
              "      <td>8</td>\n",
              "      <td>9</td>\n",
              "      <td>9</td>\n",
              "    </tr>\n",
              "  </tbody>\n",
              "</table>\n",
              "<p>395 rows × 33 columns</p>\n",
              "</div>\n",
              "      <button class=\"colab-df-convert\" onclick=\"convertToInteractive('df-0150e5f4-91e6-4b63-ae26-5c42f763fd3d')\"\n",
              "              title=\"Convert this dataframe to an interactive table.\"\n",
              "              style=\"display:none;\">\n",
              "        \n",
              "  <svg xmlns=\"http://www.w3.org/2000/svg\" height=\"24px\"viewBox=\"0 0 24 24\"\n",
              "       width=\"24px\">\n",
              "    <path d=\"M0 0h24v24H0V0z\" fill=\"none\"/>\n",
              "    <path d=\"M18.56 5.44l.94 2.06.94-2.06 2.06-.94-2.06-.94-.94-2.06-.94 2.06-2.06.94zm-11 1L8.5 8.5l.94-2.06 2.06-.94-2.06-.94L8.5 2.5l-.94 2.06-2.06.94zm10 10l.94 2.06.94-2.06 2.06-.94-2.06-.94-.94-2.06-.94 2.06-2.06.94z\"/><path d=\"M17.41 7.96l-1.37-1.37c-.4-.4-.92-.59-1.43-.59-.52 0-1.04.2-1.43.59L10.3 9.45l-7.72 7.72c-.78.78-.78 2.05 0 2.83L4 21.41c.39.39.9.59 1.41.59.51 0 1.02-.2 1.41-.59l7.78-7.78 2.81-2.81c.8-.78.8-2.07 0-2.86zM5.41 20L4 18.59l7.72-7.72 1.47 1.35L5.41 20z\"/>\n",
              "  </svg>\n",
              "      </button>\n",
              "      \n",
              "  <style>\n",
              "    .colab-df-container {\n",
              "      display:flex;\n",
              "      flex-wrap:wrap;\n",
              "      gap: 12px;\n",
              "    }\n",
              "\n",
              "    .colab-df-convert {\n",
              "      background-color: #E8F0FE;\n",
              "      border: none;\n",
              "      border-radius: 50%;\n",
              "      cursor: pointer;\n",
              "      display: none;\n",
              "      fill: #1967D2;\n",
              "      height: 32px;\n",
              "      padding: 0 0 0 0;\n",
              "      width: 32px;\n",
              "    }\n",
              "\n",
              "    .colab-df-convert:hover {\n",
              "      background-color: #E2EBFA;\n",
              "      box-shadow: 0px 1px 2px rgba(60, 64, 67, 0.3), 0px 1px 3px 1px rgba(60, 64, 67, 0.15);\n",
              "      fill: #174EA6;\n",
              "    }\n",
              "\n",
              "    [theme=dark] .colab-df-convert {\n",
              "      background-color: #3B4455;\n",
              "      fill: #D2E3FC;\n",
              "    }\n",
              "\n",
              "    [theme=dark] .colab-df-convert:hover {\n",
              "      background-color: #434B5C;\n",
              "      box-shadow: 0px 1px 3px 1px rgba(0, 0, 0, 0.15);\n",
              "      filter: drop-shadow(0px 1px 2px rgba(0, 0, 0, 0.3));\n",
              "      fill: #FFFFFF;\n",
              "    }\n",
              "  </style>\n",
              "\n",
              "      <script>\n",
              "        const buttonEl =\n",
              "          document.querySelector('#df-0150e5f4-91e6-4b63-ae26-5c42f763fd3d button.colab-df-convert');\n",
              "        buttonEl.style.display =\n",
              "          google.colab.kernel.accessAllowed ? 'block' : 'none';\n",
              "\n",
              "        async function convertToInteractive(key) {\n",
              "          const element = document.querySelector('#df-0150e5f4-91e6-4b63-ae26-5c42f763fd3d');\n",
              "          const dataTable =\n",
              "            await google.colab.kernel.invokeFunction('convertToInteractive',\n",
              "                                                     [key], {});\n",
              "          if (!dataTable) return;\n",
              "\n",
              "          const docLinkHtml = 'Like what you see? Visit the ' +\n",
              "            '<a target=\"_blank\" href=https://colab.research.google.com/notebooks/data_table.ipynb>data table notebook</a>'\n",
              "            + ' to learn more about interactive tables.';\n",
              "          element.innerHTML = '';\n",
              "          dataTable['output_type'] = 'display_data';\n",
              "          await google.colab.output.renderOutput(dataTable, element);\n",
              "          const docLink = document.createElement('div');\n",
              "          docLink.innerHTML = docLinkHtml;\n",
              "          element.appendChild(docLink);\n",
              "        }\n",
              "      </script>\n",
              "    </div>\n",
              "  </div>\n",
              "  "
            ],
            "text/plain": [
              "    school sex  age address famsize Pstatus                           Medu  \\\n",
              "0       GP   F   18       U     GT3       A               higher education   \n",
              "1       GP   F   17       U     GT3       T  primary education (4th grade)   \n",
              "2       GP   F   15       U     LE3       T  primary education (4th grade)   \n",
              "3       GP   F   15       U     GT3       T               higher education   \n",
              "4       GP   F   16       U     GT3       T            secondary education   \n",
              "..     ...  ..  ...     ...     ...     ...                            ...   \n",
              "390     MS   M   20       U     LE3       A               5th to 9th grade   \n",
              "391     MS   M   17       U     LE3       T            secondary education   \n",
              "392     MS   M   21       R     GT3       T  primary education (4th grade)   \n",
              "393     MS   M   18       R     LE3       T            secondary education   \n",
              "394     MS   M   19       U     LE3       T  primary education (4th grade)   \n",
              "\n",
              "                              Fedu      Mjob      Fjob  ...     famrel  \\\n",
              "0                 higher education   at_home   teacher  ...  very good   \n",
              "1    primary education (4th grade)   at_home     other  ...  excellent   \n",
              "2    primary education (4th grade)   at_home     other  ...  very good   \n",
              "3                 5th to 9th grade    health  services  ...       good   \n",
              "4              secondary education     other     other  ...  very good   \n",
              "..                             ...       ...       ...  ...        ...   \n",
              "390               5th to 9th grade  services  services  ...  excellent   \n",
              "391  primary education (4th grade)  services  services  ...        bad   \n",
              "392  primary education (4th grade)     other     other  ...  excellent   \n",
              "393               5th to 9th grade  services     other  ...  very good   \n",
              "394  primary education (4th grade)     other   at_home  ...       good   \n",
              "\n",
              "      freetime      goout      Dalc       Walc     health absences  G1  G2  G3  \n",
              "0       medium       high  very low   very low       good        6   5   6   6  \n",
              "1       medium     medium  very low   very low       good        4   5   5   6  \n",
              "2       medium        low       low     medium       good       10   7   8  10  \n",
              "3          low        low  very low   very low  excellent        2  15  14  15  \n",
              "4       medium        low  very low        low  excellent        4   6  10  10  \n",
              "..         ...        ...       ...        ...        ...      ...  ..  ..  ..  \n",
              "390  very high       high      high  very high  very good       11   9   9   9  \n",
              "391       high  very high    medium       high        bad        3  14  16  16  \n",
              "392  very high     medium    medium     medium       good        3  10   8   7  \n",
              "393       high   very low    medium       high  excellent        0  11  12  10  \n",
              "394        low     medium    medium     medium  excellent        5   8   9   9  \n",
              "\n",
              "[395 rows x 33 columns]"
            ]
          },
          "execution_count": 4,
          "metadata": {},
          "output_type": "execute_result"
        }
      ],
      "source": [
        "coursework_hridaya= pd.read_csv(coursework_hridaya)\n",
        "coursework_hridaya"
      ]
    },
    {
      "cell_type": "markdown",
      "metadata": {
        "id": "CeGe78GJdw9K"
      },
      "source": [
        "2.  Once you make your initial observation, please explain why do you think the data was collected, what\n",
        "kind of information you can extract from the dataset. Please write your answer in text cell of the Jupyter\n",
        "Notebook"
      ]
    },
    {
      "cell_type": "markdown",
      "metadata": {
        "id": "1yTZFfbF_8Nn"
      },
      "source": [
        "An information set known as a dataset can be used to teach a computer to recognize patterns and anticipate future events. Dataset is used to do various things. Dataset is used in increasing your audience,understanding\n",
        "identifying potential growth or improvement areas, future pattern forecasting.The primary goal of data collection is to obtain useful information. Here is also a performance.csv file which is a dataset which contains the data for various student and their details.<br>\n",
        "So let's start with the performance.csv file. The Performance.csv file contains student information. This file contains information for 395 students from two different schools.sex: This gender column discusses the genders of students at both schools. M denotes male and F denotes female.\n",
        "Year: The age in this column indicates the precise age of the students enrolled in both schools. address: The address column contains two data points, U and R, which represent all students' addresses. Columns in the dataset also describe the father's education, the mother's education, the father's occupation, the mother's occupation, and so on. These records contain detailed information about each student. According to the records, this type of data is typically provided to schools, where it is collected about students.I believe it is critical for students to keep track of their records, understand what they are doing, improve their grades, and hold themselves accountable so that they can learn with confidence."
      ]
    },
    {
      "cell_type": "markdown",
      "metadata": {
        "id": "i4Kcy40Wd5Wx"
      },
      "source": [
        "3. Check for null values and datatypes for all the columns present in the dataset."
      ]
    },
    {
      "cell_type": "code",
      "execution_count": 5,
      "metadata": {
        "colab": {
          "base_uri": "https://localhost:8080/",
          "height": 424
        },
        "id": "B57W5MY_dzs6",
        "outputId": "d47379ff-0f31-4780-ec96-2602d548a0aa"
      },
      "outputs": [
        {
          "data": {
            "text/html": [
              "\n",
              "  <div id=\"df-8fb83172-d448-4061-8d1f-56728085569f\">\n",
              "    <div class=\"colab-df-container\">\n",
              "      <div>\n",
              "<style scoped>\n",
              "    .dataframe tbody tr th:only-of-type {\n",
              "        vertical-align: middle;\n",
              "    }\n",
              "\n",
              "    .dataframe tbody tr th {\n",
              "        vertical-align: top;\n",
              "    }\n",
              "\n",
              "    .dataframe thead th {\n",
              "        text-align: right;\n",
              "    }\n",
              "</style>\n",
              "<table border=\"1\" class=\"dataframe\">\n",
              "  <thead>\n",
              "    <tr style=\"text-align: right;\">\n",
              "      <th></th>\n",
              "      <th>school</th>\n",
              "      <th>sex</th>\n",
              "      <th>age</th>\n",
              "      <th>address</th>\n",
              "      <th>famsize</th>\n",
              "      <th>Pstatus</th>\n",
              "      <th>Medu</th>\n",
              "      <th>Fedu</th>\n",
              "      <th>Mjob</th>\n",
              "      <th>Fjob</th>\n",
              "      <th>...</th>\n",
              "      <th>famrel</th>\n",
              "      <th>freetime</th>\n",
              "      <th>goout</th>\n",
              "      <th>Dalc</th>\n",
              "      <th>Walc</th>\n",
              "      <th>health</th>\n",
              "      <th>absences</th>\n",
              "      <th>G1</th>\n",
              "      <th>G2</th>\n",
              "      <th>G3</th>\n",
              "    </tr>\n",
              "  </thead>\n",
              "  <tbody>\n",
              "    <tr>\n",
              "      <th>0</th>\n",
              "      <td>False</td>\n",
              "      <td>False</td>\n",
              "      <td>False</td>\n",
              "      <td>False</td>\n",
              "      <td>False</td>\n",
              "      <td>False</td>\n",
              "      <td>False</td>\n",
              "      <td>False</td>\n",
              "      <td>False</td>\n",
              "      <td>False</td>\n",
              "      <td>...</td>\n",
              "      <td>False</td>\n",
              "      <td>False</td>\n",
              "      <td>False</td>\n",
              "      <td>False</td>\n",
              "      <td>False</td>\n",
              "      <td>False</td>\n",
              "      <td>False</td>\n",
              "      <td>False</td>\n",
              "      <td>False</td>\n",
              "      <td>False</td>\n",
              "    </tr>\n",
              "    <tr>\n",
              "      <th>1</th>\n",
              "      <td>False</td>\n",
              "      <td>False</td>\n",
              "      <td>False</td>\n",
              "      <td>False</td>\n",
              "      <td>False</td>\n",
              "      <td>False</td>\n",
              "      <td>False</td>\n",
              "      <td>False</td>\n",
              "      <td>False</td>\n",
              "      <td>False</td>\n",
              "      <td>...</td>\n",
              "      <td>False</td>\n",
              "      <td>False</td>\n",
              "      <td>False</td>\n",
              "      <td>False</td>\n",
              "      <td>False</td>\n",
              "      <td>False</td>\n",
              "      <td>False</td>\n",
              "      <td>False</td>\n",
              "      <td>False</td>\n",
              "      <td>False</td>\n",
              "    </tr>\n",
              "    <tr>\n",
              "      <th>2</th>\n",
              "      <td>False</td>\n",
              "      <td>False</td>\n",
              "      <td>False</td>\n",
              "      <td>False</td>\n",
              "      <td>False</td>\n",
              "      <td>False</td>\n",
              "      <td>False</td>\n",
              "      <td>False</td>\n",
              "      <td>False</td>\n",
              "      <td>False</td>\n",
              "      <td>...</td>\n",
              "      <td>False</td>\n",
              "      <td>False</td>\n",
              "      <td>False</td>\n",
              "      <td>False</td>\n",
              "      <td>False</td>\n",
              "      <td>False</td>\n",
              "      <td>False</td>\n",
              "      <td>False</td>\n",
              "      <td>False</td>\n",
              "      <td>False</td>\n",
              "    </tr>\n",
              "    <tr>\n",
              "      <th>3</th>\n",
              "      <td>False</td>\n",
              "      <td>False</td>\n",
              "      <td>False</td>\n",
              "      <td>False</td>\n",
              "      <td>False</td>\n",
              "      <td>False</td>\n",
              "      <td>False</td>\n",
              "      <td>False</td>\n",
              "      <td>False</td>\n",
              "      <td>False</td>\n",
              "      <td>...</td>\n",
              "      <td>False</td>\n",
              "      <td>False</td>\n",
              "      <td>False</td>\n",
              "      <td>False</td>\n",
              "      <td>False</td>\n",
              "      <td>False</td>\n",
              "      <td>False</td>\n",
              "      <td>False</td>\n",
              "      <td>False</td>\n",
              "      <td>False</td>\n",
              "    </tr>\n",
              "    <tr>\n",
              "      <th>4</th>\n",
              "      <td>False</td>\n",
              "      <td>False</td>\n",
              "      <td>False</td>\n",
              "      <td>False</td>\n",
              "      <td>False</td>\n",
              "      <td>False</td>\n",
              "      <td>False</td>\n",
              "      <td>False</td>\n",
              "      <td>False</td>\n",
              "      <td>False</td>\n",
              "      <td>...</td>\n",
              "      <td>False</td>\n",
              "      <td>False</td>\n",
              "      <td>False</td>\n",
              "      <td>False</td>\n",
              "      <td>False</td>\n",
              "      <td>False</td>\n",
              "      <td>False</td>\n",
              "      <td>False</td>\n",
              "      <td>False</td>\n",
              "      <td>False</td>\n",
              "    </tr>\n",
              "    <tr>\n",
              "      <th>...</th>\n",
              "      <td>...</td>\n",
              "      <td>...</td>\n",
              "      <td>...</td>\n",
              "      <td>...</td>\n",
              "      <td>...</td>\n",
              "      <td>...</td>\n",
              "      <td>...</td>\n",
              "      <td>...</td>\n",
              "      <td>...</td>\n",
              "      <td>...</td>\n",
              "      <td>...</td>\n",
              "      <td>...</td>\n",
              "      <td>...</td>\n",
              "      <td>...</td>\n",
              "      <td>...</td>\n",
              "      <td>...</td>\n",
              "      <td>...</td>\n",
              "      <td>...</td>\n",
              "      <td>...</td>\n",
              "      <td>...</td>\n",
              "      <td>...</td>\n",
              "    </tr>\n",
              "    <tr>\n",
              "      <th>390</th>\n",
              "      <td>False</td>\n",
              "      <td>False</td>\n",
              "      <td>False</td>\n",
              "      <td>False</td>\n",
              "      <td>False</td>\n",
              "      <td>False</td>\n",
              "      <td>False</td>\n",
              "      <td>False</td>\n",
              "      <td>False</td>\n",
              "      <td>False</td>\n",
              "      <td>...</td>\n",
              "      <td>False</td>\n",
              "      <td>False</td>\n",
              "      <td>False</td>\n",
              "      <td>False</td>\n",
              "      <td>False</td>\n",
              "      <td>False</td>\n",
              "      <td>False</td>\n",
              "      <td>False</td>\n",
              "      <td>False</td>\n",
              "      <td>False</td>\n",
              "    </tr>\n",
              "    <tr>\n",
              "      <th>391</th>\n",
              "      <td>False</td>\n",
              "      <td>False</td>\n",
              "      <td>False</td>\n",
              "      <td>False</td>\n",
              "      <td>False</td>\n",
              "      <td>False</td>\n",
              "      <td>False</td>\n",
              "      <td>False</td>\n",
              "      <td>False</td>\n",
              "      <td>False</td>\n",
              "      <td>...</td>\n",
              "      <td>False</td>\n",
              "      <td>False</td>\n",
              "      <td>False</td>\n",
              "      <td>False</td>\n",
              "      <td>False</td>\n",
              "      <td>False</td>\n",
              "      <td>False</td>\n",
              "      <td>False</td>\n",
              "      <td>False</td>\n",
              "      <td>False</td>\n",
              "    </tr>\n",
              "    <tr>\n",
              "      <th>392</th>\n",
              "      <td>False</td>\n",
              "      <td>False</td>\n",
              "      <td>False</td>\n",
              "      <td>False</td>\n",
              "      <td>False</td>\n",
              "      <td>False</td>\n",
              "      <td>False</td>\n",
              "      <td>False</td>\n",
              "      <td>False</td>\n",
              "      <td>False</td>\n",
              "      <td>...</td>\n",
              "      <td>False</td>\n",
              "      <td>False</td>\n",
              "      <td>False</td>\n",
              "      <td>False</td>\n",
              "      <td>False</td>\n",
              "      <td>False</td>\n",
              "      <td>False</td>\n",
              "      <td>False</td>\n",
              "      <td>False</td>\n",
              "      <td>False</td>\n",
              "    </tr>\n",
              "    <tr>\n",
              "      <th>393</th>\n",
              "      <td>False</td>\n",
              "      <td>False</td>\n",
              "      <td>False</td>\n",
              "      <td>False</td>\n",
              "      <td>False</td>\n",
              "      <td>False</td>\n",
              "      <td>False</td>\n",
              "      <td>False</td>\n",
              "      <td>False</td>\n",
              "      <td>False</td>\n",
              "      <td>...</td>\n",
              "      <td>False</td>\n",
              "      <td>False</td>\n",
              "      <td>False</td>\n",
              "      <td>False</td>\n",
              "      <td>False</td>\n",
              "      <td>False</td>\n",
              "      <td>False</td>\n",
              "      <td>False</td>\n",
              "      <td>False</td>\n",
              "      <td>False</td>\n",
              "    </tr>\n",
              "    <tr>\n",
              "      <th>394</th>\n",
              "      <td>False</td>\n",
              "      <td>False</td>\n",
              "      <td>False</td>\n",
              "      <td>False</td>\n",
              "      <td>False</td>\n",
              "      <td>False</td>\n",
              "      <td>False</td>\n",
              "      <td>False</td>\n",
              "      <td>False</td>\n",
              "      <td>False</td>\n",
              "      <td>...</td>\n",
              "      <td>False</td>\n",
              "      <td>False</td>\n",
              "      <td>False</td>\n",
              "      <td>False</td>\n",
              "      <td>False</td>\n",
              "      <td>False</td>\n",
              "      <td>False</td>\n",
              "      <td>False</td>\n",
              "      <td>False</td>\n",
              "      <td>False</td>\n",
              "    </tr>\n",
              "  </tbody>\n",
              "</table>\n",
              "<p>395 rows × 33 columns</p>\n",
              "</div>\n",
              "      <button class=\"colab-df-convert\" onclick=\"convertToInteractive('df-8fb83172-d448-4061-8d1f-56728085569f')\"\n",
              "              title=\"Convert this dataframe to an interactive table.\"\n",
              "              style=\"display:none;\">\n",
              "        \n",
              "  <svg xmlns=\"http://www.w3.org/2000/svg\" height=\"24px\"viewBox=\"0 0 24 24\"\n",
              "       width=\"24px\">\n",
              "    <path d=\"M0 0h24v24H0V0z\" fill=\"none\"/>\n",
              "    <path d=\"M18.56 5.44l.94 2.06.94-2.06 2.06-.94-2.06-.94-.94-2.06-.94 2.06-2.06.94zm-11 1L8.5 8.5l.94-2.06 2.06-.94-2.06-.94L8.5 2.5l-.94 2.06-2.06.94zm10 10l.94 2.06.94-2.06 2.06-.94-2.06-.94-.94-2.06-.94 2.06-2.06.94z\"/><path d=\"M17.41 7.96l-1.37-1.37c-.4-.4-.92-.59-1.43-.59-.52 0-1.04.2-1.43.59L10.3 9.45l-7.72 7.72c-.78.78-.78 2.05 0 2.83L4 21.41c.39.39.9.59 1.41.59.51 0 1.02-.2 1.41-.59l7.78-7.78 2.81-2.81c.8-.78.8-2.07 0-2.86zM5.41 20L4 18.59l7.72-7.72 1.47 1.35L5.41 20z\"/>\n",
              "  </svg>\n",
              "      </button>\n",
              "      \n",
              "  <style>\n",
              "    .colab-df-container {\n",
              "      display:flex;\n",
              "      flex-wrap:wrap;\n",
              "      gap: 12px;\n",
              "    }\n",
              "\n",
              "    .colab-df-convert {\n",
              "      background-color: #E8F0FE;\n",
              "      border: none;\n",
              "      border-radius: 50%;\n",
              "      cursor: pointer;\n",
              "      display: none;\n",
              "      fill: #1967D2;\n",
              "      height: 32px;\n",
              "      padding: 0 0 0 0;\n",
              "      width: 32px;\n",
              "    }\n",
              "\n",
              "    .colab-df-convert:hover {\n",
              "      background-color: #E2EBFA;\n",
              "      box-shadow: 0px 1px 2px rgba(60, 64, 67, 0.3), 0px 1px 3px 1px rgba(60, 64, 67, 0.15);\n",
              "      fill: #174EA6;\n",
              "    }\n",
              "\n",
              "    [theme=dark] .colab-df-convert {\n",
              "      background-color: #3B4455;\n",
              "      fill: #D2E3FC;\n",
              "    }\n",
              "\n",
              "    [theme=dark] .colab-df-convert:hover {\n",
              "      background-color: #434B5C;\n",
              "      box-shadow: 0px 1px 3px 1px rgba(0, 0, 0, 0.15);\n",
              "      filter: drop-shadow(0px 1px 2px rgba(0, 0, 0, 0.3));\n",
              "      fill: #FFFFFF;\n",
              "    }\n",
              "  </style>\n",
              "\n",
              "      <script>\n",
              "        const buttonEl =\n",
              "          document.querySelector('#df-8fb83172-d448-4061-8d1f-56728085569f button.colab-df-convert');\n",
              "        buttonEl.style.display =\n",
              "          google.colab.kernel.accessAllowed ? 'block' : 'none';\n",
              "\n",
              "        async function convertToInteractive(key) {\n",
              "          const element = document.querySelector('#df-8fb83172-d448-4061-8d1f-56728085569f');\n",
              "          const dataTable =\n",
              "            await google.colab.kernel.invokeFunction('convertToInteractive',\n",
              "                                                     [key], {});\n",
              "          if (!dataTable) return;\n",
              "\n",
              "          const docLinkHtml = 'Like what you see? Visit the ' +\n",
              "            '<a target=\"_blank\" href=https://colab.research.google.com/notebooks/data_table.ipynb>data table notebook</a>'\n",
              "            + ' to learn more about interactive tables.';\n",
              "          element.innerHTML = '';\n",
              "          dataTable['output_type'] = 'display_data';\n",
              "          await google.colab.output.renderOutput(dataTable, element);\n",
              "          const docLink = document.createElement('div');\n",
              "          docLink.innerHTML = docLinkHtml;\n",
              "          element.appendChild(docLink);\n",
              "        }\n",
              "      </script>\n",
              "    </div>\n",
              "  </div>\n",
              "  "
            ],
            "text/plain": [
              "     school    sex    age  address  famsize  Pstatus   Medu   Fedu   Mjob  \\\n",
              "0     False  False  False    False    False    False  False  False  False   \n",
              "1     False  False  False    False    False    False  False  False  False   \n",
              "2     False  False  False    False    False    False  False  False  False   \n",
              "3     False  False  False    False    False    False  False  False  False   \n",
              "4     False  False  False    False    False    False  False  False  False   \n",
              "..      ...    ...    ...      ...      ...      ...    ...    ...    ...   \n",
              "390   False  False  False    False    False    False  False  False  False   \n",
              "391   False  False  False    False    False    False  False  False  False   \n",
              "392   False  False  False    False    False    False  False  False  False   \n",
              "393   False  False  False    False    False    False  False  False  False   \n",
              "394   False  False  False    False    False    False  False  False  False   \n",
              "\n",
              "      Fjob  ...  famrel  freetime  goout   Dalc   Walc  health  absences  \\\n",
              "0    False  ...   False     False  False  False  False   False     False   \n",
              "1    False  ...   False     False  False  False  False   False     False   \n",
              "2    False  ...   False     False  False  False  False   False     False   \n",
              "3    False  ...   False     False  False  False  False   False     False   \n",
              "4    False  ...   False     False  False  False  False   False     False   \n",
              "..     ...  ...     ...       ...    ...    ...    ...     ...       ...   \n",
              "390  False  ...   False     False  False  False  False   False     False   \n",
              "391  False  ...   False     False  False  False  False   False     False   \n",
              "392  False  ...   False     False  False  False  False   False     False   \n",
              "393  False  ...   False     False  False  False  False   False     False   \n",
              "394  False  ...   False     False  False  False  False   False     False   \n",
              "\n",
              "        G1     G2     G3  \n",
              "0    False  False  False  \n",
              "1    False  False  False  \n",
              "2    False  False  False  \n",
              "3    False  False  False  \n",
              "4    False  False  False  \n",
              "..     ...    ...    ...  \n",
              "390  False  False  False  \n",
              "391  False  False  False  \n",
              "392  False  False  False  \n",
              "393  False  False  False  \n",
              "394  False  False  False  \n",
              "\n",
              "[395 rows x 33 columns]"
            ]
          },
          "execution_count": 5,
          "metadata": {},
          "output_type": "execute_result"
        }
      ],
      "source": [
        "# checking for null values\n",
        "coursework_hridaya.isnull()"
      ]
    },
    {
      "cell_type": "code",
      "execution_count": 6,
      "metadata": {
        "colab": {
          "base_uri": "https://localhost:8080/"
        },
        "id": "8OgiaenAIrtQ",
        "outputId": "a2be4d0f-6315-41d2-ec0b-dc5310e4eb63"
      },
      "outputs": [
        {
          "name": "stdout",
          "output_type": "stream",
          "text": [
            "school        object\n",
            "sex           object\n",
            "age            int64\n",
            "address       object\n",
            "famsize       object\n",
            "Pstatus       object\n",
            "Medu          object\n",
            "Fedu          object\n",
            "Mjob          object\n",
            "Fjob          object\n",
            "reason        object\n",
            "guardian      object\n",
            "traveltime    object\n",
            "studytime     object\n",
            "failures       int64\n",
            "schoolsup     object\n",
            "famsup        object\n",
            "paid          object\n",
            "activities    object\n",
            "nursery       object\n",
            "higher        object\n",
            "internet      object\n",
            "romantic      object\n",
            "famrel        object\n",
            "freetime      object\n",
            "goout         object\n",
            "Dalc          object\n",
            "Walc          object\n",
            "health        object\n",
            "absences       int64\n",
            "G1             int64\n",
            "G2             int64\n",
            "G3             int64\n",
            "dtype: object\n"
          ]
        }
      ],
      "source": [
        "#checking for null datatypes\n",
        "datatype = coursework_hridaya.dtypes\n",
        "print(datatype)"
      ]
    },
    {
      "cell_type": "markdown",
      "metadata": {
        "id": "zUK_-jAneAty"
      },
      "source": [
        "## **Data Transformation**\n",
        "\n",
        "\n",
        "\n"
      ]
    },
    {
      "cell_type": "markdown",
      "metadata": {
        "id": "05PoaY8gAlBm"
      },
      "source": [
        "1. ”School”, ”sex”, ”address”, ”schoolsup”, ”famsup”, ”activites”, ”nursery”, ”internet”, and ”romantic”\n",
        "into binary: 0 or 1 (create new columns without overwriting the existing ones)."
      ]
    },
    {
      "cell_type": "code",
      "execution_count": null,
      "metadata": {
        "id": "kG_QkIqD_vnz"
      },
      "outputs": [],
      "source": [
        "# Knowing the unique value to and changing it into number\n",
        "# (coursework_hridaya[\"School\"].unique())\n",
        "# (coursework_hridaya[\"sex\"].unique())\n",
        "# (coursework_hridaya[\"address\"].unique())\n",
        "# (coursework_hridaya[\"schoolsup\"].unique())\n",
        "# (coursework_hridaya[\"famsup\"].unique())\n",
        "# (coursework_hridaya[\"activites\"].unique())\n",
        "# (coursework_hridaya[\"nursery\"].unique())\n",
        "# (coursework_hridaya[\"internet\"].unique())\n",
        "# (coursework_hridaya[\"romantic\"].unique())"
      ]
    },
    {
      "cell_type": "code",
      "execution_count": 7,
      "metadata": {
        "colab": {
          "base_uri": "https://localhost:8080/"
        },
        "id": "sYV5JW4bifFC",
        "outputId": "e237aee3-a966-4757-fd7d-48f797c2302a"
      },
      "outputs": [
        {
          "data": {
            "text/plain": [
              "0      0\n",
              "1      0\n",
              "2      0\n",
              "3      0\n",
              "4      0\n",
              "      ..\n",
              "390    1\n",
              "391    1\n",
              "392    1\n",
              "393    1\n",
              "394    1\n",
              "Name: temp_school, Length: 395, dtype: int64"
            ]
          },
          "execution_count": 7,
          "metadata": {},
          "output_type": "execute_result"
        }
      ],
      "source": [
        "#For school creating new column 'temp_school' and mapping GP as 0 and MS as 1. A new column 'temp_school' is made to ensure the data is not overwritten.\n",
        "coursework_hridaya['temp_school']=coursework_hridaya['school'].map({'GP':0,'MS':1})\n",
        "coursework_hridaya['temp_school']"
      ]
    },
    {
      "cell_type": "code",
      "execution_count": 8,
      "metadata": {
        "colab": {
          "base_uri": "https://localhost:8080/"
        },
        "id": "UVwUDbuYAuJP",
        "outputId": "ad655461-a2ce-40eb-eb6f-a8cbc1ad9479"
      },
      "outputs": [
        {
          "data": {
            "text/plain": [
              "0      1\n",
              "1      1\n",
              "2      1\n",
              "3      1\n",
              "4      1\n",
              "      ..\n",
              "390    0\n",
              "391    0\n",
              "392    0\n",
              "393    0\n",
              "394    0\n",
              "Name: temp_sex, Length: 395, dtype: int64"
            ]
          },
          "execution_count": 8,
          "metadata": {},
          "output_type": "execute_result"
        }
      ],
      "source": [
        "#For sex creating new column 'temp_sex' and mapping male as 0 and female as 1. A new column 'temp_sex' is made to ensure the data is not overwritten.\n",
        "coursework_hridaya['temp_sex']=coursework_hridaya['sex'].map({'M':0,'F':1})\n",
        "coursework_hridaya['temp_sex']"
      ]
    },
    {
      "cell_type": "code",
      "execution_count": 9,
      "metadata": {
        "colab": {
          "base_uri": "https://localhost:8080/"
        },
        "id": "hA2tbShCA0An",
        "outputId": "a249d4ad-5508-4cbb-bc12-bdc3cecc2186"
      },
      "outputs": [
        {
          "data": {
            "text/plain": [
              "0      0\n",
              "1      0\n",
              "2      0\n",
              "3      0\n",
              "4      0\n",
              "      ..\n",
              "390    0\n",
              "391    0\n",
              "392    1\n",
              "393    1\n",
              "394    0\n",
              "Name: temp_address, Length: 395, dtype: int64"
            ]
          },
          "execution_count": 9,
          "metadata": {},
          "output_type": "execute_result"
        }
      ],
      "source": [
        "#For address creating new column 'temp_address' and mapping U as 0 and R as 1. A new column 'temp_address' is made to ensure data is not overwritten.\n",
        "coursework_hridaya['temp_address']=coursework_hridaya['address'].map({'U':0,'R':1})\n",
        "coursework_hridaya['temp_address']"
      ]
    },
    {
      "cell_type": "code",
      "execution_count": 10,
      "metadata": {
        "colab": {
          "base_uri": "https://localhost:8080/"
        },
        "id": "hJ3XGa5MA3LY",
        "outputId": "dc9a0fbe-9d1c-4b4d-f1c4-b98afe53841e"
      },
      "outputs": [
        {
          "data": {
            "text/plain": [
              "0      0\n",
              "1      1\n",
              "2      0\n",
              "3      1\n",
              "4      1\n",
              "      ..\n",
              "390    1\n",
              "391    1\n",
              "392    1\n",
              "393    1\n",
              "394    1\n",
              "Name: temp_schoolsup, Length: 395, dtype: int64"
            ]
          },
          "execution_count": 10,
          "metadata": {},
          "output_type": "execute_result"
        }
      ],
      "source": [
        "#For schoolsup new column 'temp_schoolsup'and mapping yes as 0 and no as 1. A new column 'temp_schoolsup' is made to ensure data is not overwritten.\n",
        "coursework_hridaya['temp_schoolsup']=coursework_hridaya['schoolsup'].map({'yes':0,'no':1})\n",
        "coursework_hridaya['temp_schoolsup']"
      ]
    },
    {
      "cell_type": "code",
      "execution_count": 11,
      "metadata": {
        "colab": {
          "base_uri": "https://localhost:8080/"
        },
        "id": "JUhttmXYA6RP",
        "outputId": "543b19b2-cf90-497b-a230-cb3aee15fd87"
      },
      "outputs": [
        {
          "data": {
            "text/plain": [
              "0      1\n",
              "1      0\n",
              "2      1\n",
              "3      0\n",
              "4      0\n",
              "      ..\n",
              "390    0\n",
              "391    1\n",
              "392    1\n",
              "393    1\n",
              "394    1\n",
              "Name: temp_famsup, Length: 395, dtype: int64"
            ]
          },
          "execution_count": 11,
          "metadata": {},
          "output_type": "execute_result"
        }
      ],
      "source": [
        "#For famsup creating new column 'temp_famsup'and mapping yes as 0 and no as 1. A new column 'temp_famsup' is made to ensure data is not overwritten.\n",
        "coursework_hridaya['temp_famsup']=coursework_hridaya['famsup'].map({'yes':0,'no':1})\n",
        "coursework_hridaya['temp_famsup']"
      ]
    },
    {
      "cell_type": "code",
      "execution_count": 12,
      "metadata": {
        "colab": {
          "base_uri": "https://localhost:8080/"
        },
        "id": "QCUK0VGMA9hg",
        "outputId": "bf374560-eaf4-4962-a49b-3e11e35a2f71"
      },
      "outputs": [
        {
          "data": {
            "text/plain": [
              "0      1\n",
              "1      1\n",
              "2      1\n",
              "3      0\n",
              "4      1\n",
              "      ..\n",
              "390    1\n",
              "391    1\n",
              "392    1\n",
              "393    1\n",
              "394    1\n",
              "Name: temp_activities, Length: 395, dtype: int64"
            ]
          },
          "execution_count": 12,
          "metadata": {},
          "output_type": "execute_result"
        }
      ],
      "source": [
        "#For activities creating new column 'temp_activities'and mapping yes as 0 and no as 1. A new column 'temp_activities' is made to ensure the data is not overwritten.\n",
        "coursework_hridaya['temp_activities']=coursework_hridaya['activities'].map({'yes':0,'no':1})\n",
        "coursework_hridaya['temp_activities']"
      ]
    },
    {
      "cell_type": "code",
      "execution_count": 13,
      "metadata": {
        "colab": {
          "base_uri": "https://localhost:8080/"
        },
        "id": "La82BGc-BD4n",
        "outputId": "01103b41-4314-48a1-dc12-706bb959e3a7"
      },
      "outputs": [
        {
          "data": {
            "text/plain": [
              "0      0\n",
              "1      1\n",
              "2      0\n",
              "3      0\n",
              "4      0\n",
              "      ..\n",
              "390    0\n",
              "391    1\n",
              "392    1\n",
              "393    1\n",
              "394    0\n",
              "Name: temp_nursery, Length: 395, dtype: int64"
            ]
          },
          "execution_count": 13,
          "metadata": {},
          "output_type": "execute_result"
        }
      ],
      "source": [
        "#For nursery creating new column 'temp_nursery'and mapping yes as 0 and no as 1. A new column 'temp_nursery' is made to ensure the data is not overwritten.\n",
        "coursework_hridaya['temp_nursery']=coursework_hridaya['nursery'].map({'yes':0,'no':1})\n",
        "coursework_hridaya['temp_nursery']"
      ]
    },
    {
      "cell_type": "code",
      "execution_count": 14,
      "metadata": {
        "colab": {
          "base_uri": "https://localhost:8080/"
        },
        "id": "AINLmMQiBFvI",
        "outputId": "bd30fc49-4270-4c48-89b8-958db8de7b1c"
      },
      "outputs": [
        {
          "data": {
            "text/plain": [
              "0      1\n",
              "1      0\n",
              "2      0\n",
              "3      0\n",
              "4      1\n",
              "      ..\n",
              "390    1\n",
              "391    0\n",
              "392    1\n",
              "393    0\n",
              "394    0\n",
              "Name: temp_internet, Length: 395, dtype: int64"
            ]
          },
          "execution_count": 14,
          "metadata": {},
          "output_type": "execute_result"
        }
      ],
      "source": [
        "#For internet creating new column 'temp_internet'and mapping yes as 0 and no as 1. A new column 'temp_internet' is made to ensure the data is not overwritten.\n",
        "coursework_hridaya['temp_internet']=coursework_hridaya['internet'].map({'yes':0,'no':1})\n",
        "coursework_hridaya['temp_internet']"
      ]
    },
    {
      "cell_type": "code",
      "execution_count": 15,
      "metadata": {
        "colab": {
          "base_uri": "https://localhost:8080/"
        },
        "id": "a0HBkCEZBJcv",
        "outputId": "e05ddae0-7abe-48f3-aa92-d29f98f00eee"
      },
      "outputs": [
        {
          "data": {
            "text/plain": [
              "0      1\n",
              "1      1\n",
              "2      1\n",
              "3      0\n",
              "4      1\n",
              "      ..\n",
              "390    1\n",
              "391    1\n",
              "392    1\n",
              "393    1\n",
              "394    1\n",
              "Name: temp_romantic, Length: 395, dtype: int64"
            ]
          },
          "execution_count": 15,
          "metadata": {},
          "output_type": "execute_result"
        }
      ],
      "source": [
        "#For romantic creating new column 'temp_romantic' and mapping yes as 0 and no as 1. A new column 'temp_romantic' is made to ensure the data is not overwritten.\n",
        "coursework_hridaya['temp_romantic']=coursework_hridaya['romantic'].map({'yes':0,'no':1})\n",
        "coursework_hridaya['temp_romantic']"
      ]
    },
    {
      "cell_type": "markdown",
      "metadata": {
        "id": "ntvJmkCjlMKZ"
      },
      "source": [
        "2. ”Medu”, ”Fedu”, ”reason”, ”guardian”, ”studytime”, ”freetime”, and ”health” into ordinal numbers based\n",
        "on the number cases in the data set (create news columns without overwriting the existing ones)."
      ]
    },
    {
      "cell_type": "code",
      "execution_count": null,
      "metadata": {
        "id": "L3uBmuMjlT2J"
      },
      "outputs": [],
      "source": [
        "# Knowing the unique value to and changing it into ordinal number\n",
        "# (coursework_hridaya[\"Medu\"].unique())\n",
        "# (coursework_hridaya[\"Fedu\"].unique())\n",
        "# (coursework_hridaya[\"reason\"].unique())\n",
        "# (coursework_hridaya[\"guardian\"].unique())\n",
        "# (coursework_hridaya[\"studytime\"].unique())\n",
        "# (coursework_hridaya[\"freetime\"].unique())\n",
        "# (coursework_hridaya[\"health\"].unique())"
      ]
    },
    {
      "cell_type": "code",
      "execution_count": 16,
      "metadata": {
        "colab": {
          "base_uri": "https://localhost:8080/"
        },
        "id": "QGbJCljGDfev",
        "outputId": "8a851276-89b6-434a-8045-237121a2d0bd"
      },
      "outputs": [
        {
          "data": {
            "text/plain": [
              "0      0\n",
              "1      1\n",
              "2      1\n",
              "3      0\n",
              "4      2\n",
              "      ..\n",
              "390    3\n",
              "391    2\n",
              "392    1\n",
              "393    2\n",
              "394    1\n",
              "Name: temp_medu, Length: 395, dtype: int64"
            ]
          },
          "execution_count": 16,
          "metadata": {},
          "output_type": "execute_result"
        }
      ],
      "source": [
        "#After knowing the unique values of medu column, mapping the unique values into ordinal numbers.A new column 'temp_medu' is made to ensure the data is not overwritten.\n",
        "coursework_hridaya['temp_medu'] = coursework_hridaya['Medu'].map({'higher education':0,'primary education (4th grade)':1,'secondary education':2,'5th to 9th grade':3,'none':4})\n",
        "coursework_hridaya['temp_medu']"
      ]
    },
    {
      "cell_type": "code",
      "execution_count": 17,
      "metadata": {
        "colab": {
          "base_uri": "https://localhost:8080/"
        },
        "id": "EtUWavRxDiV4",
        "outputId": "6fba6ef7-1bb1-426a-9b79-7886f53b7e3f"
      },
      "outputs": [
        {
          "data": {
            "text/plain": [
              "0      0\n",
              "1      1\n",
              "2      1\n",
              "3      3\n",
              "4      2\n",
              "      ..\n",
              "390    3\n",
              "391    1\n",
              "392    1\n",
              "393    3\n",
              "394    1\n",
              "Name: temp_fedu, Length: 395, dtype: int64"
            ]
          },
          "execution_count": 17,
          "metadata": {},
          "output_type": "execute_result"
        }
      ],
      "source": [
        "#After knowing the unique values of fedu column, mapping the unique values into ordinal numbers.A new column 'temp_fedu' is made to ensure the data is not overwritten.\n",
        "coursework_hridaya['temp_fedu'] = coursework_hridaya['Fedu'].map({'higher education':0,'primary education (4th grade)':1,'secondary education':2,'5th to 9th grade':3,'none':4})\n",
        "coursework_hridaya['temp_fedu']"
      ]
    },
    {
      "cell_type": "code",
      "execution_count": 18,
      "metadata": {
        "colab": {
          "base_uri": "https://localhost:8080/"
        },
        "id": "2jyLTku4Dji3",
        "outputId": "6200c5bc-daa5-4112-8041-6940e5960dc4"
      },
      "outputs": [
        {
          "data": {
            "text/plain": [
              "0      0\n",
              "1      0\n",
              "2      1\n",
              "3      2\n",
              "4      2\n",
              "      ..\n",
              "390    0\n",
              "391    0\n",
              "392    0\n",
              "393    0\n",
              "394    0\n",
              "Name: temp_reason, Length: 395, dtype: int64"
            ]
          },
          "execution_count": 18,
          "metadata": {},
          "output_type": "execute_result"
        }
      ],
      "source": [
        "#After knowing the unique values of reason column, mapping the unique values into ordinal numbers.A new column 'temp_reason' is made to ensure the data is not overwritten.\n",
        "coursework_hridaya['temp_reason'] = coursework_hridaya['reason'].map({'course':0,'other':1,'home':2,'reputation':3})\n",
        "coursework_hridaya['temp_reason']"
      ]
    },
    {
      "cell_type": "code",
      "execution_count": 19,
      "metadata": {
        "colab": {
          "base_uri": "https://localhost:8080/"
        },
        "id": "jwIpiKu4DmKP",
        "outputId": "cf064f83-0920-4b0b-e652-b082bad03088"
      },
      "outputs": [
        {
          "data": {
            "text/plain": [
              "0      0\n",
              "1      1\n",
              "2      0\n",
              "3      0\n",
              "4      1\n",
              "      ..\n",
              "390    2\n",
              "391    0\n",
              "392    2\n",
              "393    0\n",
              "394    1\n",
              "Name: temp_guardian, Length: 395, dtype: int64"
            ]
          },
          "execution_count": 19,
          "metadata": {},
          "output_type": "execute_result"
        }
      ],
      "source": [
        "#After knowing the unique values of guardian column, mapping the unique values into ordinal numbers.A new column 'temp_guardian' is made to ensure the data is not overwritten.\n",
        "coursework_hridaya['temp_guardian'] = coursework_hridaya['guardian'].map({'mother':0,'father':1,'other':2})\n",
        "coursework_hridaya['temp_guardian']"
      ]
    },
    {
      "cell_type": "code",
      "execution_count": 20,
      "metadata": {
        "colab": {
          "base_uri": "https://localhost:8080/"
        },
        "id": "Zdn0W7OaDnuf",
        "outputId": "83b4e414-5a17-41dd-b7de-b9e3c14cae76"
      },
      "outputs": [
        {
          "data": {
            "text/plain": [
              "0      0\n",
              "1      0\n",
              "2      0\n",
              "3      1\n",
              "4      0\n",
              "      ..\n",
              "390    0\n",
              "391    2\n",
              "392    2\n",
              "393    2\n",
              "394    2\n",
              "Name: temp_studytime, Length: 395, dtype: int64"
            ]
          },
          "execution_count": 20,
          "metadata": {},
          "output_type": "execute_result"
        }
      ],
      "source": [
        "#After knowing the unique values of studytime column, mapping the unique values into ordinal numbers.A new column 'temp_studytime' is made to ensure the data is not overwritten.\n",
        "coursework_hridaya['temp_studytime'] = coursework_hridaya['studytime'].map({'2 to 5 hours':0,'5 to 10 hours':1,'<2 hours':2,'>10 hours':3})\n",
        "coursework_hridaya['temp_studytime']"
      ]
    },
    {
      "cell_type": "code",
      "execution_count": 21,
      "metadata": {
        "colab": {
          "base_uri": "https://localhost:8080/"
        },
        "id": "S4KY7jLuDpJw",
        "outputId": "184f6d41-3ab4-4536-ed74-28cff6072735"
      },
      "outputs": [
        {
          "data": {
            "text/plain": [
              "0      0\n",
              "1      0\n",
              "2      0\n",
              "3      1\n",
              "4      0\n",
              "      ..\n",
              "390    4\n",
              "391    2\n",
              "392    4\n",
              "393    2\n",
              "394    1\n",
              "Name: temp_freetime, Length: 395, dtype: int64"
            ]
          },
          "execution_count": 21,
          "metadata": {},
          "output_type": "execute_result"
        }
      ],
      "source": [
        "#After knowing the unique values of freetime column, mapping the unique values into ordinal numbers.A new column 'temp_freetime' is made to ensure the data is not overwritten.\n",
        "coursework_hridaya['temp_freetime'] = coursework_hridaya['freetime'].map({'medium':0,'low':1,'high':2,'very low':3,'very high':4})\n",
        "coursework_hridaya['temp_freetime']"
      ]
    },
    {
      "cell_type": "code",
      "execution_count": 22,
      "metadata": {
        "colab": {
          "base_uri": "https://localhost:8080/"
        },
        "id": "EnH4B37UDrsG",
        "outputId": "c6e13f2d-16db-4ea6-c661-9c537b402ef0"
      },
      "outputs": [
        {
          "data": {
            "text/plain": [
              "0      0\n",
              "1      0\n",
              "2      0\n",
              "3      1\n",
              "4      1\n",
              "      ..\n",
              "390    4\n",
              "391    3\n",
              "392    0\n",
              "393    1\n",
              "394    1\n",
              "Name: temp_health, Length: 395, dtype: int64"
            ]
          },
          "execution_count": 22,
          "metadata": {},
          "output_type": "execute_result"
        }
      ],
      "source": [
        "#After knowing the unique values of health column, mapping the unique values into ordinal numbersA new column 'temp_health' is made to ensure the data is not overwritten.\n",
        "coursework_hridaya['temp_health'] = coursework_hridaya['health'].map({'good':0,'excellent':1,'very bad':2,'bad':3,'very good':4})\n",
        "coursework_hridaya['temp_health']"
      ]
    },
    {
      "cell_type": "code",
      "execution_count": 23,
      "metadata": {
        "colab": {
          "base_uri": "https://localhost:8080/",
          "height": 835
        },
        "id": "C263jrw8r4lJ",
        "outputId": "7fcac548-9393-48b2-b761-5860232d77bf"
      },
      "outputs": [
        {
          "data": {
            "text/html": [
              "\n",
              "  <div id=\"df-223c29af-55e2-4365-bc8a-2bb7e78000bf\">\n",
              "    <div class=\"colab-df-container\">\n",
              "      <div>\n",
              "<style scoped>\n",
              "    .dataframe tbody tr th:only-of-type {\n",
              "        vertical-align: middle;\n",
              "    }\n",
              "\n",
              "    .dataframe tbody tr th {\n",
              "        vertical-align: top;\n",
              "    }\n",
              "\n",
              "    .dataframe thead th {\n",
              "        text-align: right;\n",
              "    }\n",
              "</style>\n",
              "<table border=\"1\" class=\"dataframe\">\n",
              "  <thead>\n",
              "    <tr style=\"text-align: right;\">\n",
              "      <th></th>\n",
              "      <th>school</th>\n",
              "      <th>sex</th>\n",
              "      <th>age</th>\n",
              "      <th>address</th>\n",
              "      <th>famsize</th>\n",
              "      <th>Pstatus</th>\n",
              "      <th>Medu</th>\n",
              "      <th>Fedu</th>\n",
              "      <th>Mjob</th>\n",
              "      <th>Fjob</th>\n",
              "      <th>...</th>\n",
              "      <th>temp_nursery</th>\n",
              "      <th>temp_internet</th>\n",
              "      <th>temp_romantic</th>\n",
              "      <th>temp_medu</th>\n",
              "      <th>temp_fedu</th>\n",
              "      <th>temp_reason</th>\n",
              "      <th>temp_guardian</th>\n",
              "      <th>temp_studytime</th>\n",
              "      <th>temp_freetime</th>\n",
              "      <th>temp_health</th>\n",
              "    </tr>\n",
              "  </thead>\n",
              "  <tbody>\n",
              "    <tr>\n",
              "      <th>0</th>\n",
              "      <td>GP</td>\n",
              "      <td>F</td>\n",
              "      <td>18</td>\n",
              "      <td>U</td>\n",
              "      <td>GT3</td>\n",
              "      <td>A</td>\n",
              "      <td>higher education</td>\n",
              "      <td>higher education</td>\n",
              "      <td>at_home</td>\n",
              "      <td>teacher</td>\n",
              "      <td>...</td>\n",
              "      <td>0</td>\n",
              "      <td>1</td>\n",
              "      <td>1</td>\n",
              "      <td>0</td>\n",
              "      <td>0</td>\n",
              "      <td>0</td>\n",
              "      <td>0</td>\n",
              "      <td>0</td>\n",
              "      <td>0</td>\n",
              "      <td>0</td>\n",
              "    </tr>\n",
              "    <tr>\n",
              "      <th>1</th>\n",
              "      <td>GP</td>\n",
              "      <td>F</td>\n",
              "      <td>17</td>\n",
              "      <td>U</td>\n",
              "      <td>GT3</td>\n",
              "      <td>T</td>\n",
              "      <td>primary education (4th grade)</td>\n",
              "      <td>primary education (4th grade)</td>\n",
              "      <td>at_home</td>\n",
              "      <td>other</td>\n",
              "      <td>...</td>\n",
              "      <td>1</td>\n",
              "      <td>0</td>\n",
              "      <td>1</td>\n",
              "      <td>1</td>\n",
              "      <td>1</td>\n",
              "      <td>0</td>\n",
              "      <td>1</td>\n",
              "      <td>0</td>\n",
              "      <td>0</td>\n",
              "      <td>0</td>\n",
              "    </tr>\n",
              "    <tr>\n",
              "      <th>2</th>\n",
              "      <td>GP</td>\n",
              "      <td>F</td>\n",
              "      <td>15</td>\n",
              "      <td>U</td>\n",
              "      <td>LE3</td>\n",
              "      <td>T</td>\n",
              "      <td>primary education (4th grade)</td>\n",
              "      <td>primary education (4th grade)</td>\n",
              "      <td>at_home</td>\n",
              "      <td>other</td>\n",
              "      <td>...</td>\n",
              "      <td>0</td>\n",
              "      <td>0</td>\n",
              "      <td>1</td>\n",
              "      <td>1</td>\n",
              "      <td>1</td>\n",
              "      <td>1</td>\n",
              "      <td>0</td>\n",
              "      <td>0</td>\n",
              "      <td>0</td>\n",
              "      <td>0</td>\n",
              "    </tr>\n",
              "    <tr>\n",
              "      <th>3</th>\n",
              "      <td>GP</td>\n",
              "      <td>F</td>\n",
              "      <td>15</td>\n",
              "      <td>U</td>\n",
              "      <td>GT3</td>\n",
              "      <td>T</td>\n",
              "      <td>higher education</td>\n",
              "      <td>5th to 9th grade</td>\n",
              "      <td>health</td>\n",
              "      <td>services</td>\n",
              "      <td>...</td>\n",
              "      <td>0</td>\n",
              "      <td>0</td>\n",
              "      <td>0</td>\n",
              "      <td>0</td>\n",
              "      <td>3</td>\n",
              "      <td>2</td>\n",
              "      <td>0</td>\n",
              "      <td>1</td>\n",
              "      <td>1</td>\n",
              "      <td>1</td>\n",
              "    </tr>\n",
              "    <tr>\n",
              "      <th>4</th>\n",
              "      <td>GP</td>\n",
              "      <td>F</td>\n",
              "      <td>16</td>\n",
              "      <td>U</td>\n",
              "      <td>GT3</td>\n",
              "      <td>T</td>\n",
              "      <td>secondary education</td>\n",
              "      <td>secondary education</td>\n",
              "      <td>other</td>\n",
              "      <td>other</td>\n",
              "      <td>...</td>\n",
              "      <td>0</td>\n",
              "      <td>1</td>\n",
              "      <td>1</td>\n",
              "      <td>2</td>\n",
              "      <td>2</td>\n",
              "      <td>2</td>\n",
              "      <td>1</td>\n",
              "      <td>0</td>\n",
              "      <td>0</td>\n",
              "      <td>1</td>\n",
              "    </tr>\n",
              "    <tr>\n",
              "      <th>...</th>\n",
              "      <td>...</td>\n",
              "      <td>...</td>\n",
              "      <td>...</td>\n",
              "      <td>...</td>\n",
              "      <td>...</td>\n",
              "      <td>...</td>\n",
              "      <td>...</td>\n",
              "      <td>...</td>\n",
              "      <td>...</td>\n",
              "      <td>...</td>\n",
              "      <td>...</td>\n",
              "      <td>...</td>\n",
              "      <td>...</td>\n",
              "      <td>...</td>\n",
              "      <td>...</td>\n",
              "      <td>...</td>\n",
              "      <td>...</td>\n",
              "      <td>...</td>\n",
              "      <td>...</td>\n",
              "      <td>...</td>\n",
              "      <td>...</td>\n",
              "    </tr>\n",
              "    <tr>\n",
              "      <th>390</th>\n",
              "      <td>MS</td>\n",
              "      <td>M</td>\n",
              "      <td>20</td>\n",
              "      <td>U</td>\n",
              "      <td>LE3</td>\n",
              "      <td>A</td>\n",
              "      <td>5th to 9th grade</td>\n",
              "      <td>5th to 9th grade</td>\n",
              "      <td>services</td>\n",
              "      <td>services</td>\n",
              "      <td>...</td>\n",
              "      <td>0</td>\n",
              "      <td>1</td>\n",
              "      <td>1</td>\n",
              "      <td>3</td>\n",
              "      <td>3</td>\n",
              "      <td>0</td>\n",
              "      <td>2</td>\n",
              "      <td>0</td>\n",
              "      <td>4</td>\n",
              "      <td>4</td>\n",
              "    </tr>\n",
              "    <tr>\n",
              "      <th>391</th>\n",
              "      <td>MS</td>\n",
              "      <td>M</td>\n",
              "      <td>17</td>\n",
              "      <td>U</td>\n",
              "      <td>LE3</td>\n",
              "      <td>T</td>\n",
              "      <td>secondary education</td>\n",
              "      <td>primary education (4th grade)</td>\n",
              "      <td>services</td>\n",
              "      <td>services</td>\n",
              "      <td>...</td>\n",
              "      <td>1</td>\n",
              "      <td>0</td>\n",
              "      <td>1</td>\n",
              "      <td>2</td>\n",
              "      <td>1</td>\n",
              "      <td>0</td>\n",
              "      <td>0</td>\n",
              "      <td>2</td>\n",
              "      <td>2</td>\n",
              "      <td>3</td>\n",
              "    </tr>\n",
              "    <tr>\n",
              "      <th>392</th>\n",
              "      <td>MS</td>\n",
              "      <td>M</td>\n",
              "      <td>21</td>\n",
              "      <td>R</td>\n",
              "      <td>GT3</td>\n",
              "      <td>T</td>\n",
              "      <td>primary education (4th grade)</td>\n",
              "      <td>primary education (4th grade)</td>\n",
              "      <td>other</td>\n",
              "      <td>other</td>\n",
              "      <td>...</td>\n",
              "      <td>1</td>\n",
              "      <td>1</td>\n",
              "      <td>1</td>\n",
              "      <td>1</td>\n",
              "      <td>1</td>\n",
              "      <td>0</td>\n",
              "      <td>2</td>\n",
              "      <td>2</td>\n",
              "      <td>4</td>\n",
              "      <td>0</td>\n",
              "    </tr>\n",
              "    <tr>\n",
              "      <th>393</th>\n",
              "      <td>MS</td>\n",
              "      <td>M</td>\n",
              "      <td>18</td>\n",
              "      <td>R</td>\n",
              "      <td>LE3</td>\n",
              "      <td>T</td>\n",
              "      <td>secondary education</td>\n",
              "      <td>5th to 9th grade</td>\n",
              "      <td>services</td>\n",
              "      <td>other</td>\n",
              "      <td>...</td>\n",
              "      <td>1</td>\n",
              "      <td>0</td>\n",
              "      <td>1</td>\n",
              "      <td>2</td>\n",
              "      <td>3</td>\n",
              "      <td>0</td>\n",
              "      <td>0</td>\n",
              "      <td>2</td>\n",
              "      <td>2</td>\n",
              "      <td>1</td>\n",
              "    </tr>\n",
              "    <tr>\n",
              "      <th>394</th>\n",
              "      <td>MS</td>\n",
              "      <td>M</td>\n",
              "      <td>19</td>\n",
              "      <td>U</td>\n",
              "      <td>LE3</td>\n",
              "      <td>T</td>\n",
              "      <td>primary education (4th grade)</td>\n",
              "      <td>primary education (4th grade)</td>\n",
              "      <td>other</td>\n",
              "      <td>at_home</td>\n",
              "      <td>...</td>\n",
              "      <td>0</td>\n",
              "      <td>0</td>\n",
              "      <td>1</td>\n",
              "      <td>1</td>\n",
              "      <td>1</td>\n",
              "      <td>0</td>\n",
              "      <td>1</td>\n",
              "      <td>2</td>\n",
              "      <td>1</td>\n",
              "      <td>1</td>\n",
              "    </tr>\n",
              "  </tbody>\n",
              "</table>\n",
              "<p>395 rows × 49 columns</p>\n",
              "</div>\n",
              "      <button class=\"colab-df-convert\" onclick=\"convertToInteractive('df-223c29af-55e2-4365-bc8a-2bb7e78000bf')\"\n",
              "              title=\"Convert this dataframe to an interactive table.\"\n",
              "              style=\"display:none;\">\n",
              "        \n",
              "  <svg xmlns=\"http://www.w3.org/2000/svg\" height=\"24px\"viewBox=\"0 0 24 24\"\n",
              "       width=\"24px\">\n",
              "    <path d=\"M0 0h24v24H0V0z\" fill=\"none\"/>\n",
              "    <path d=\"M18.56 5.44l.94 2.06.94-2.06 2.06-.94-2.06-.94-.94-2.06-.94 2.06-2.06.94zm-11 1L8.5 8.5l.94-2.06 2.06-.94-2.06-.94L8.5 2.5l-.94 2.06-2.06.94zm10 10l.94 2.06.94-2.06 2.06-.94-2.06-.94-.94-2.06-.94 2.06-2.06.94z\"/><path d=\"M17.41 7.96l-1.37-1.37c-.4-.4-.92-.59-1.43-.59-.52 0-1.04.2-1.43.59L10.3 9.45l-7.72 7.72c-.78.78-.78 2.05 0 2.83L4 21.41c.39.39.9.59 1.41.59.51 0 1.02-.2 1.41-.59l7.78-7.78 2.81-2.81c.8-.78.8-2.07 0-2.86zM5.41 20L4 18.59l7.72-7.72 1.47 1.35L5.41 20z\"/>\n",
              "  </svg>\n",
              "      </button>\n",
              "      \n",
              "  <style>\n",
              "    .colab-df-container {\n",
              "      display:flex;\n",
              "      flex-wrap:wrap;\n",
              "      gap: 12px;\n",
              "    }\n",
              "\n",
              "    .colab-df-convert {\n",
              "      background-color: #E8F0FE;\n",
              "      border: none;\n",
              "      border-radius: 50%;\n",
              "      cursor: pointer;\n",
              "      display: none;\n",
              "      fill: #1967D2;\n",
              "      height: 32px;\n",
              "      padding: 0 0 0 0;\n",
              "      width: 32px;\n",
              "    }\n",
              "\n",
              "    .colab-df-convert:hover {\n",
              "      background-color: #E2EBFA;\n",
              "      box-shadow: 0px 1px 2px rgba(60, 64, 67, 0.3), 0px 1px 3px 1px rgba(60, 64, 67, 0.15);\n",
              "      fill: #174EA6;\n",
              "    }\n",
              "\n",
              "    [theme=dark] .colab-df-convert {\n",
              "      background-color: #3B4455;\n",
              "      fill: #D2E3FC;\n",
              "    }\n",
              "\n",
              "    [theme=dark] .colab-df-convert:hover {\n",
              "      background-color: #434B5C;\n",
              "      box-shadow: 0px 1px 3px 1px rgba(0, 0, 0, 0.15);\n",
              "      filter: drop-shadow(0px 1px 2px rgba(0, 0, 0, 0.3));\n",
              "      fill: #FFFFFF;\n",
              "    }\n",
              "  </style>\n",
              "\n",
              "      <script>\n",
              "        const buttonEl =\n",
              "          document.querySelector('#df-223c29af-55e2-4365-bc8a-2bb7e78000bf button.colab-df-convert');\n",
              "        buttonEl.style.display =\n",
              "          google.colab.kernel.accessAllowed ? 'block' : 'none';\n",
              "\n",
              "        async function convertToInteractive(key) {\n",
              "          const element = document.querySelector('#df-223c29af-55e2-4365-bc8a-2bb7e78000bf');\n",
              "          const dataTable =\n",
              "            await google.colab.kernel.invokeFunction('convertToInteractive',\n",
              "                                                     [key], {});\n",
              "          if (!dataTable) return;\n",
              "\n",
              "          const docLinkHtml = 'Like what you see? Visit the ' +\n",
              "            '<a target=\"_blank\" href=https://colab.research.google.com/notebooks/data_table.ipynb>data table notebook</a>'\n",
              "            + ' to learn more about interactive tables.';\n",
              "          element.innerHTML = '';\n",
              "          dataTable['output_type'] = 'display_data';\n",
              "          await google.colab.output.renderOutput(dataTable, element);\n",
              "          const docLink = document.createElement('div');\n",
              "          docLink.innerHTML = docLinkHtml;\n",
              "          element.appendChild(docLink);\n",
              "        }\n",
              "      </script>\n",
              "    </div>\n",
              "  </div>\n",
              "  "
            ],
            "text/plain": [
              "    school sex  age address famsize Pstatus                           Medu  \\\n",
              "0       GP   F   18       U     GT3       A               higher education   \n",
              "1       GP   F   17       U     GT3       T  primary education (4th grade)   \n",
              "2       GP   F   15       U     LE3       T  primary education (4th grade)   \n",
              "3       GP   F   15       U     GT3       T               higher education   \n",
              "4       GP   F   16       U     GT3       T            secondary education   \n",
              "..     ...  ..  ...     ...     ...     ...                            ...   \n",
              "390     MS   M   20       U     LE3       A               5th to 9th grade   \n",
              "391     MS   M   17       U     LE3       T            secondary education   \n",
              "392     MS   M   21       R     GT3       T  primary education (4th grade)   \n",
              "393     MS   M   18       R     LE3       T            secondary education   \n",
              "394     MS   M   19       U     LE3       T  primary education (4th grade)   \n",
              "\n",
              "                              Fedu      Mjob      Fjob  ... temp_nursery  \\\n",
              "0                 higher education   at_home   teacher  ...            0   \n",
              "1    primary education (4th grade)   at_home     other  ...            1   \n",
              "2    primary education (4th grade)   at_home     other  ...            0   \n",
              "3                 5th to 9th grade    health  services  ...            0   \n",
              "4              secondary education     other     other  ...            0   \n",
              "..                             ...       ...       ...  ...          ...   \n",
              "390               5th to 9th grade  services  services  ...            0   \n",
              "391  primary education (4th grade)  services  services  ...            1   \n",
              "392  primary education (4th grade)     other     other  ...            1   \n",
              "393               5th to 9th grade  services     other  ...            1   \n",
              "394  primary education (4th grade)     other   at_home  ...            0   \n",
              "\n",
              "    temp_internet temp_romantic temp_medu  temp_fedu temp_reason  \\\n",
              "0               1             1         0          0           0   \n",
              "1               0             1         1          1           0   \n",
              "2               0             1         1          1           1   \n",
              "3               0             0         0          3           2   \n",
              "4               1             1         2          2           2   \n",
              "..            ...           ...       ...        ...         ...   \n",
              "390             1             1         3          3           0   \n",
              "391             0             1         2          1           0   \n",
              "392             1             1         1          1           0   \n",
              "393             0             1         2          3           0   \n",
              "394             0             1         1          1           0   \n",
              "\n",
              "    temp_guardian temp_studytime temp_freetime temp_health  \n",
              "0               0              0             0           0  \n",
              "1               1              0             0           0  \n",
              "2               0              0             0           0  \n",
              "3               0              1             1           1  \n",
              "4               1              0             0           1  \n",
              "..            ...            ...           ...         ...  \n",
              "390             2              0             4           4  \n",
              "391             0              2             2           3  \n",
              "392             2              2             4           0  \n",
              "393             0              2             2           1  \n",
              "394             1              2             1           1  \n",
              "\n",
              "[395 rows x 49 columns]"
            ]
          },
          "execution_count": 23,
          "metadata": {},
          "output_type": "execute_result"
        }
      ],
      "source": [
        "coursework_hridaya\n",
        "#printing all the data to check all the data is changed correctly and all new columns are made perfectly and columns are not overwritten."
      ]
    },
    {
      "cell_type": "markdown",
      "metadata": {
        "id": "5qbGG94es4kh"
      },
      "source": [
        "3. Convert column ”age” to interval datatype. i.e. Create a new column name category age whose values\n",
        "should be based on the frequency in the column ”age”, You can create categorical data with following\n",
        "interval.\n",
        "(a) interval1: [15-17]\n",
        "(b) interval2: [18-20]\n",
        "(c) interval3: [21-all]"
      ]
    },
    {
      "cell_type": "code",
      "execution_count": 24,
      "metadata": {
        "colab": {
          "base_uri": "https://localhost:8080/"
        },
        "id": "1Ur9A7v-DBjP",
        "outputId": "adbd12fe-4656-41d5-8de9-b87b1cfa9bb7"
      },
      "outputs": [
        {
          "data": {
            "text/plain": [
              "0      2\n",
              "1      1\n",
              "2      1\n",
              "3      1\n",
              "4      1\n",
              "      ..\n",
              "390    2\n",
              "391    1\n",
              "392    3\n",
              "393    2\n",
              "394    2\n",
              "Name: category age, Length: 395, dtype: int64"
            ]
          },
          "execution_count": 24,
          "metadata": {},
          "output_type": "execute_result"
        }
      ],
      "source": [
        "conditions = [ \n",
        "    # creating different conditions for different interval types\n",
        "    (coursework_hridaya['age'] >= 15) & (coursework_hridaya['age'] <= 17), #greater than equals to 15 and less than equals to 17\n",
        "    (coursework_hridaya['age'] >= 18) & (coursework_hridaya['age'] <= 20), #greater than equals to 18 and less than equals to 20\n",
        "    (coursework_hridaya['age'] >= 21) #greater than and equals to 21\n",
        "]\n",
        "values = [1,2,3]  #giving values 1, 2 and 3\n",
        "\n",
        "coursework_hridaya['category age'] = np.select(conditions, values) #using dataframe to create a new category age and selecting numpy with condition and values\n",
        " #displaying the values\n",
        "coursework_hridaya['category age']"
      ]
    },
    {
      "cell_type": "markdown",
      "metadata": {
        "id": "NmEmLB8bs7qx"
      },
      "source": [
        "4. Create a new column name passed (yes or no) whose values should be based on the values present in the\n",
        "G3 column (>= 8–yes, < −no)."
      ]
    },
    {
      "cell_type": "code",
      "execution_count": 25,
      "metadata": {
        "colab": {
          "base_uri": "https://localhost:8080/",
          "height": 852
        },
        "id": "lnjLA1pDD9Gn",
        "outputId": "8e8bbbdd-6207-4af4-d667-0abbb8a8537c"
      },
      "outputs": [
        {
          "data": {
            "text/html": [
              "\n",
              "  <div id=\"df-bb71349f-b199-47b4-9c68-38a2ea7ff347\">\n",
              "    <div class=\"colab-df-container\">\n",
              "      <div>\n",
              "<style scoped>\n",
              "    .dataframe tbody tr th:only-of-type {\n",
              "        vertical-align: middle;\n",
              "    }\n",
              "\n",
              "    .dataframe tbody tr th {\n",
              "        vertical-align: top;\n",
              "    }\n",
              "\n",
              "    .dataframe thead th {\n",
              "        text-align: right;\n",
              "    }\n",
              "</style>\n",
              "<table border=\"1\" class=\"dataframe\">\n",
              "  <thead>\n",
              "    <tr style=\"text-align: right;\">\n",
              "      <th></th>\n",
              "      <th>school</th>\n",
              "      <th>sex</th>\n",
              "      <th>age</th>\n",
              "      <th>address</th>\n",
              "      <th>famsize</th>\n",
              "      <th>Pstatus</th>\n",
              "      <th>Medu</th>\n",
              "      <th>Fedu</th>\n",
              "      <th>Mjob</th>\n",
              "      <th>Fjob</th>\n",
              "      <th>...</th>\n",
              "      <th>temp_romantic</th>\n",
              "      <th>temp_medu</th>\n",
              "      <th>temp_fedu</th>\n",
              "      <th>temp_reason</th>\n",
              "      <th>temp_guardian</th>\n",
              "      <th>temp_studytime</th>\n",
              "      <th>temp_freetime</th>\n",
              "      <th>temp_health</th>\n",
              "      <th>category age</th>\n",
              "      <th>passed</th>\n",
              "    </tr>\n",
              "  </thead>\n",
              "  <tbody>\n",
              "    <tr>\n",
              "      <th>0</th>\n",
              "      <td>GP</td>\n",
              "      <td>F</td>\n",
              "      <td>18</td>\n",
              "      <td>U</td>\n",
              "      <td>GT3</td>\n",
              "      <td>A</td>\n",
              "      <td>higher education</td>\n",
              "      <td>higher education</td>\n",
              "      <td>at_home</td>\n",
              "      <td>teacher</td>\n",
              "      <td>...</td>\n",
              "      <td>1</td>\n",
              "      <td>0</td>\n",
              "      <td>0</td>\n",
              "      <td>0</td>\n",
              "      <td>0</td>\n",
              "      <td>0</td>\n",
              "      <td>0</td>\n",
              "      <td>0</td>\n",
              "      <td>2</td>\n",
              "      <td>no</td>\n",
              "    </tr>\n",
              "    <tr>\n",
              "      <th>1</th>\n",
              "      <td>GP</td>\n",
              "      <td>F</td>\n",
              "      <td>17</td>\n",
              "      <td>U</td>\n",
              "      <td>GT3</td>\n",
              "      <td>T</td>\n",
              "      <td>primary education (4th grade)</td>\n",
              "      <td>primary education (4th grade)</td>\n",
              "      <td>at_home</td>\n",
              "      <td>other</td>\n",
              "      <td>...</td>\n",
              "      <td>1</td>\n",
              "      <td>1</td>\n",
              "      <td>1</td>\n",
              "      <td>0</td>\n",
              "      <td>1</td>\n",
              "      <td>0</td>\n",
              "      <td>0</td>\n",
              "      <td>0</td>\n",
              "      <td>1</td>\n",
              "      <td>no</td>\n",
              "    </tr>\n",
              "    <tr>\n",
              "      <th>2</th>\n",
              "      <td>GP</td>\n",
              "      <td>F</td>\n",
              "      <td>15</td>\n",
              "      <td>U</td>\n",
              "      <td>LE3</td>\n",
              "      <td>T</td>\n",
              "      <td>primary education (4th grade)</td>\n",
              "      <td>primary education (4th grade)</td>\n",
              "      <td>at_home</td>\n",
              "      <td>other</td>\n",
              "      <td>...</td>\n",
              "      <td>1</td>\n",
              "      <td>1</td>\n",
              "      <td>1</td>\n",
              "      <td>1</td>\n",
              "      <td>0</td>\n",
              "      <td>0</td>\n",
              "      <td>0</td>\n",
              "      <td>0</td>\n",
              "      <td>1</td>\n",
              "      <td>yes</td>\n",
              "    </tr>\n",
              "    <tr>\n",
              "      <th>3</th>\n",
              "      <td>GP</td>\n",
              "      <td>F</td>\n",
              "      <td>15</td>\n",
              "      <td>U</td>\n",
              "      <td>GT3</td>\n",
              "      <td>T</td>\n",
              "      <td>higher education</td>\n",
              "      <td>5th to 9th grade</td>\n",
              "      <td>health</td>\n",
              "      <td>services</td>\n",
              "      <td>...</td>\n",
              "      <td>0</td>\n",
              "      <td>0</td>\n",
              "      <td>3</td>\n",
              "      <td>2</td>\n",
              "      <td>0</td>\n",
              "      <td>1</td>\n",
              "      <td>1</td>\n",
              "      <td>1</td>\n",
              "      <td>1</td>\n",
              "      <td>yes</td>\n",
              "    </tr>\n",
              "    <tr>\n",
              "      <th>4</th>\n",
              "      <td>GP</td>\n",
              "      <td>F</td>\n",
              "      <td>16</td>\n",
              "      <td>U</td>\n",
              "      <td>GT3</td>\n",
              "      <td>T</td>\n",
              "      <td>secondary education</td>\n",
              "      <td>secondary education</td>\n",
              "      <td>other</td>\n",
              "      <td>other</td>\n",
              "      <td>...</td>\n",
              "      <td>1</td>\n",
              "      <td>2</td>\n",
              "      <td>2</td>\n",
              "      <td>2</td>\n",
              "      <td>1</td>\n",
              "      <td>0</td>\n",
              "      <td>0</td>\n",
              "      <td>1</td>\n",
              "      <td>1</td>\n",
              "      <td>yes</td>\n",
              "    </tr>\n",
              "    <tr>\n",
              "      <th>...</th>\n",
              "      <td>...</td>\n",
              "      <td>...</td>\n",
              "      <td>...</td>\n",
              "      <td>...</td>\n",
              "      <td>...</td>\n",
              "      <td>...</td>\n",
              "      <td>...</td>\n",
              "      <td>...</td>\n",
              "      <td>...</td>\n",
              "      <td>...</td>\n",
              "      <td>...</td>\n",
              "      <td>...</td>\n",
              "      <td>...</td>\n",
              "      <td>...</td>\n",
              "      <td>...</td>\n",
              "      <td>...</td>\n",
              "      <td>...</td>\n",
              "      <td>...</td>\n",
              "      <td>...</td>\n",
              "      <td>...</td>\n",
              "      <td>...</td>\n",
              "    </tr>\n",
              "    <tr>\n",
              "      <th>390</th>\n",
              "      <td>MS</td>\n",
              "      <td>M</td>\n",
              "      <td>20</td>\n",
              "      <td>U</td>\n",
              "      <td>LE3</td>\n",
              "      <td>A</td>\n",
              "      <td>5th to 9th grade</td>\n",
              "      <td>5th to 9th grade</td>\n",
              "      <td>services</td>\n",
              "      <td>services</td>\n",
              "      <td>...</td>\n",
              "      <td>1</td>\n",
              "      <td>3</td>\n",
              "      <td>3</td>\n",
              "      <td>0</td>\n",
              "      <td>2</td>\n",
              "      <td>0</td>\n",
              "      <td>4</td>\n",
              "      <td>4</td>\n",
              "      <td>2</td>\n",
              "      <td>yes</td>\n",
              "    </tr>\n",
              "    <tr>\n",
              "      <th>391</th>\n",
              "      <td>MS</td>\n",
              "      <td>M</td>\n",
              "      <td>17</td>\n",
              "      <td>U</td>\n",
              "      <td>LE3</td>\n",
              "      <td>T</td>\n",
              "      <td>secondary education</td>\n",
              "      <td>primary education (4th grade)</td>\n",
              "      <td>services</td>\n",
              "      <td>services</td>\n",
              "      <td>...</td>\n",
              "      <td>1</td>\n",
              "      <td>2</td>\n",
              "      <td>1</td>\n",
              "      <td>0</td>\n",
              "      <td>0</td>\n",
              "      <td>2</td>\n",
              "      <td>2</td>\n",
              "      <td>3</td>\n",
              "      <td>1</td>\n",
              "      <td>yes</td>\n",
              "    </tr>\n",
              "    <tr>\n",
              "      <th>392</th>\n",
              "      <td>MS</td>\n",
              "      <td>M</td>\n",
              "      <td>21</td>\n",
              "      <td>R</td>\n",
              "      <td>GT3</td>\n",
              "      <td>T</td>\n",
              "      <td>primary education (4th grade)</td>\n",
              "      <td>primary education (4th grade)</td>\n",
              "      <td>other</td>\n",
              "      <td>other</td>\n",
              "      <td>...</td>\n",
              "      <td>1</td>\n",
              "      <td>1</td>\n",
              "      <td>1</td>\n",
              "      <td>0</td>\n",
              "      <td>2</td>\n",
              "      <td>2</td>\n",
              "      <td>4</td>\n",
              "      <td>0</td>\n",
              "      <td>3</td>\n",
              "      <td>no</td>\n",
              "    </tr>\n",
              "    <tr>\n",
              "      <th>393</th>\n",
              "      <td>MS</td>\n",
              "      <td>M</td>\n",
              "      <td>18</td>\n",
              "      <td>R</td>\n",
              "      <td>LE3</td>\n",
              "      <td>T</td>\n",
              "      <td>secondary education</td>\n",
              "      <td>5th to 9th grade</td>\n",
              "      <td>services</td>\n",
              "      <td>other</td>\n",
              "      <td>...</td>\n",
              "      <td>1</td>\n",
              "      <td>2</td>\n",
              "      <td>3</td>\n",
              "      <td>0</td>\n",
              "      <td>0</td>\n",
              "      <td>2</td>\n",
              "      <td>2</td>\n",
              "      <td>1</td>\n",
              "      <td>2</td>\n",
              "      <td>yes</td>\n",
              "    </tr>\n",
              "    <tr>\n",
              "      <th>394</th>\n",
              "      <td>MS</td>\n",
              "      <td>M</td>\n",
              "      <td>19</td>\n",
              "      <td>U</td>\n",
              "      <td>LE3</td>\n",
              "      <td>T</td>\n",
              "      <td>primary education (4th grade)</td>\n",
              "      <td>primary education (4th grade)</td>\n",
              "      <td>other</td>\n",
              "      <td>at_home</td>\n",
              "      <td>...</td>\n",
              "      <td>1</td>\n",
              "      <td>1</td>\n",
              "      <td>1</td>\n",
              "      <td>0</td>\n",
              "      <td>1</td>\n",
              "      <td>2</td>\n",
              "      <td>1</td>\n",
              "      <td>1</td>\n",
              "      <td>2</td>\n",
              "      <td>yes</td>\n",
              "    </tr>\n",
              "  </tbody>\n",
              "</table>\n",
              "<p>395 rows × 51 columns</p>\n",
              "</div>\n",
              "      <button class=\"colab-df-convert\" onclick=\"convertToInteractive('df-bb71349f-b199-47b4-9c68-38a2ea7ff347')\"\n",
              "              title=\"Convert this dataframe to an interactive table.\"\n",
              "              style=\"display:none;\">\n",
              "        \n",
              "  <svg xmlns=\"http://www.w3.org/2000/svg\" height=\"24px\"viewBox=\"0 0 24 24\"\n",
              "       width=\"24px\">\n",
              "    <path d=\"M0 0h24v24H0V0z\" fill=\"none\"/>\n",
              "    <path d=\"M18.56 5.44l.94 2.06.94-2.06 2.06-.94-2.06-.94-.94-2.06-.94 2.06-2.06.94zm-11 1L8.5 8.5l.94-2.06 2.06-.94-2.06-.94L8.5 2.5l-.94 2.06-2.06.94zm10 10l.94 2.06.94-2.06 2.06-.94-2.06-.94-.94-2.06-.94 2.06-2.06.94z\"/><path d=\"M17.41 7.96l-1.37-1.37c-.4-.4-.92-.59-1.43-.59-.52 0-1.04.2-1.43.59L10.3 9.45l-7.72 7.72c-.78.78-.78 2.05 0 2.83L4 21.41c.39.39.9.59 1.41.59.51 0 1.02-.2 1.41-.59l7.78-7.78 2.81-2.81c.8-.78.8-2.07 0-2.86zM5.41 20L4 18.59l7.72-7.72 1.47 1.35L5.41 20z\"/>\n",
              "  </svg>\n",
              "      </button>\n",
              "      \n",
              "  <style>\n",
              "    .colab-df-container {\n",
              "      display:flex;\n",
              "      flex-wrap:wrap;\n",
              "      gap: 12px;\n",
              "    }\n",
              "\n",
              "    .colab-df-convert {\n",
              "      background-color: #E8F0FE;\n",
              "      border: none;\n",
              "      border-radius: 50%;\n",
              "      cursor: pointer;\n",
              "      display: none;\n",
              "      fill: #1967D2;\n",
              "      height: 32px;\n",
              "      padding: 0 0 0 0;\n",
              "      width: 32px;\n",
              "    }\n",
              "\n",
              "    .colab-df-convert:hover {\n",
              "      background-color: #E2EBFA;\n",
              "      box-shadow: 0px 1px 2px rgba(60, 64, 67, 0.3), 0px 1px 3px 1px rgba(60, 64, 67, 0.15);\n",
              "      fill: #174EA6;\n",
              "    }\n",
              "\n",
              "    [theme=dark] .colab-df-convert {\n",
              "      background-color: #3B4455;\n",
              "      fill: #D2E3FC;\n",
              "    }\n",
              "\n",
              "    [theme=dark] .colab-df-convert:hover {\n",
              "      background-color: #434B5C;\n",
              "      box-shadow: 0px 1px 3px 1px rgba(0, 0, 0, 0.15);\n",
              "      filter: drop-shadow(0px 1px 2px rgba(0, 0, 0, 0.3));\n",
              "      fill: #FFFFFF;\n",
              "    }\n",
              "  </style>\n",
              "\n",
              "      <script>\n",
              "        const buttonEl =\n",
              "          document.querySelector('#df-bb71349f-b199-47b4-9c68-38a2ea7ff347 button.colab-df-convert');\n",
              "        buttonEl.style.display =\n",
              "          google.colab.kernel.accessAllowed ? 'block' : 'none';\n",
              "\n",
              "        async function convertToInteractive(key) {\n",
              "          const element = document.querySelector('#df-bb71349f-b199-47b4-9c68-38a2ea7ff347');\n",
              "          const dataTable =\n",
              "            await google.colab.kernel.invokeFunction('convertToInteractive',\n",
              "                                                     [key], {});\n",
              "          if (!dataTable) return;\n",
              "\n",
              "          const docLinkHtml = 'Like what you see? Visit the ' +\n",
              "            '<a target=\"_blank\" href=https://colab.research.google.com/notebooks/data_table.ipynb>data table notebook</a>'\n",
              "            + ' to learn more about interactive tables.';\n",
              "          element.innerHTML = '';\n",
              "          dataTable['output_type'] = 'display_data';\n",
              "          await google.colab.output.renderOutput(dataTable, element);\n",
              "          const docLink = document.createElement('div');\n",
              "          docLink.innerHTML = docLinkHtml;\n",
              "          element.appendChild(docLink);\n",
              "        }\n",
              "      </script>\n",
              "    </div>\n",
              "  </div>\n",
              "  "
            ],
            "text/plain": [
              "    school sex  age address famsize Pstatus                           Medu  \\\n",
              "0       GP   F   18       U     GT3       A               higher education   \n",
              "1       GP   F   17       U     GT3       T  primary education (4th grade)   \n",
              "2       GP   F   15       U     LE3       T  primary education (4th grade)   \n",
              "3       GP   F   15       U     GT3       T               higher education   \n",
              "4       GP   F   16       U     GT3       T            secondary education   \n",
              "..     ...  ..  ...     ...     ...     ...                            ...   \n",
              "390     MS   M   20       U     LE3       A               5th to 9th grade   \n",
              "391     MS   M   17       U     LE3       T            secondary education   \n",
              "392     MS   M   21       R     GT3       T  primary education (4th grade)   \n",
              "393     MS   M   18       R     LE3       T            secondary education   \n",
              "394     MS   M   19       U     LE3       T  primary education (4th grade)   \n",
              "\n",
              "                              Fedu      Mjob      Fjob  ... temp_romantic  \\\n",
              "0                 higher education   at_home   teacher  ...             1   \n",
              "1    primary education (4th grade)   at_home     other  ...             1   \n",
              "2    primary education (4th grade)   at_home     other  ...             1   \n",
              "3                 5th to 9th grade    health  services  ...             0   \n",
              "4              secondary education     other     other  ...             1   \n",
              "..                             ...       ...       ...  ...           ...   \n",
              "390               5th to 9th grade  services  services  ...             1   \n",
              "391  primary education (4th grade)  services  services  ...             1   \n",
              "392  primary education (4th grade)     other     other  ...             1   \n",
              "393               5th to 9th grade  services     other  ...             1   \n",
              "394  primary education (4th grade)     other   at_home  ...             1   \n",
              "\n",
              "    temp_medu temp_fedu temp_reason  temp_guardian temp_studytime  \\\n",
              "0           0         0           0              0              0   \n",
              "1           1         1           0              1              0   \n",
              "2           1         1           1              0              0   \n",
              "3           0         3           2              0              1   \n",
              "4           2         2           2              1              0   \n",
              "..        ...       ...         ...            ...            ...   \n",
              "390         3         3           0              2              0   \n",
              "391         2         1           0              0              2   \n",
              "392         1         1           0              2              2   \n",
              "393         2         3           0              0              2   \n",
              "394         1         1           0              1              2   \n",
              "\n",
              "    temp_freetime temp_health category age passed  \n",
              "0               0           0            2     no  \n",
              "1               0           0            1     no  \n",
              "2               0           0            1    yes  \n",
              "3               1           1            1    yes  \n",
              "4               0           1            1    yes  \n",
              "..            ...         ...          ...    ...  \n",
              "390             4           4            2    yes  \n",
              "391             2           3            1    yes  \n",
              "392             4           0            3     no  \n",
              "393             2           1            2    yes  \n",
              "394             1           1            2    yes  \n",
              "\n",
              "[395 rows x 51 columns]"
            ]
          },
          "execution_count": 25,
          "metadata": {},
          "output_type": "execute_result"
        }
      ],
      "source": [
        "x = (coursework_hridaya['G3']) #x is a variable where I have stored the dataset with the values of G3 column\n",
        "high = x [x >= 8]  #high is the variable where I have stored the values greater and equals to 8.\n",
        "low = x [x < 8]   #low is the variable where I have stored the values smaller than 8\n",
        "#making new column 'passed' and changing the g3 values by replacing the above calculated high and low values into yes and no.\n",
        "coursework_hridaya['passed'] = coursework_hridaya['G3'].replace([high, low], ['yes' , 'no']) \n",
        "#printing to check.\n",
        "coursework_hridaya"
      ]
    },
    {
      "cell_type": "markdown",
      "metadata": {
        "id": "q9JnSMRwEI_v"
      },
      "source": [
        "## **Descriptive Analysis:**"
      ]
    },
    {
      "cell_type": "markdown",
      "metadata": {
        "id": "UNmi0xyawdyx"
      },
      "source": [
        "Write a code to show the summary statistic (sum, mean, median, standard deviation, max, and min) of the\n",
        "variables age, absences, G1, G2, and G3)."
      ]
    },
    {
      "cell_type": "code",
      "execution_count": 26,
      "metadata": {
        "colab": {
          "base_uri": "https://localhost:8080/"
        },
        "id": "1nI5mHhlv-Fw",
        "outputId": "71109db8-8d73-447c-e95e-bac4e9ba0be6"
      },
      "outputs": [
        {
          "name": "stdout",
          "output_type": "stream",
          "text": [
            "age\n",
            "Sum of age 6595\n",
            "Mean of age 16.696202531645568\n",
            "Median of age 17.0\n",
            "Standard Deviation of age 1.2760427246056283\n",
            "Max of age 22\n",
            "Min of age 15\n",
            "^^^^^^^^^^^^^^^^^^^^^^^^^^^^^^^^^^\n",
            "G1\n",
            "Sum of G1 4309\n",
            "Mean of G1 10.90886075949367\n",
            "Median of G1 11.0\n",
            "Standard Deviation of G1 3.319194671507669\n",
            "Max of G1 19\n",
            "Min of G1 3\n",
            "^^^^^^^^^^^^^^^^^^^^^^^^^^^^^^^^^^\n",
            "G2\n",
            "Sum of G2 4232\n",
            "Mean of G2 10.713924050632912\n",
            "Median of G2 11.0\n",
            "Standard Deviation of G2 3.7615046595560298\n",
            "Max of G2 19\n",
            "Min of G2 0\n",
            "^^^^^^^^^^^^^^^^^^^^^^^^^^^^^^^^^^\n",
            "G3\n",
            "Sum of G3 4114\n",
            "Mean of G3 10.415189873417722\n",
            "Median of G3 11.0\n",
            "Standard Deviation of G3 4.5814426109978434\n",
            "Max of G3 20\n",
            "Min of G3 0\n",
            "^^^^^^^^^^^^^^^^^^^^^^^^^^^^^^^^^^\n"
          ]
        }
      ],
      "source": [
        "for y in coursework_hridaya: #using for loop in new variable y for my dataset.\n",
        "  if y in[\"age\",\"absensces\",\"G1\",\"G2\",\"G3\"]: #accessing the column required in y varible\n",
        "    print(y) #printing the column names using assigned variable\n",
        "    print('Sum of',y,coursework_hridaya[y].sum()) #calculating sum for requried columns using the assigned variables.\n",
        "    print('Mean of',y,coursework_hridaya[y].mean()) #calculating mean for requried columns using the assigned variables.\n",
        "    print('Median of',y,coursework_hridaya[y].median()) #calculating median for requried columns using the assigned variables.\n",
        "    print('Standard Deviation of',y,coursework_hridaya[y].std()) #calculating standard deviation for requried columns using the assigned variables.\n",
        "    print('Max of',y,coursework_hridaya[y].max()) #calculating max for requried columns using the assigned variables.\n",
        "    print('Min of',y,coursework_hridaya[y].min()) #calculating min for requried columns using the assigned variables.\n",
        "    print(\"^^^^^^^^^^^^^^^^^^^^^^^^^^^^^^^^^^\")#just a pattern to separate the columns."
      ]
    },
    {
      "cell_type": "markdown",
      "metadata": {
        "id": "0oRRTGtwxGnZ"
      },
      "source": [
        "## **Data Exploration and Visualization:**\n",
        "\n",
        "\n"
      ]
    },
    {
      "cell_type": "markdown",
      "metadata": {
        "id": "9er5UAuPxKoR"
      },
      "source": [
        "1. Write a code to show histogram plots and boxplots to visualize the distribution of the variables\n",
        "”age”, ”absence”, and ”G3”. Interpret the results and comment on the distribution of each variable.\n",
        "Write your answer in text cell of jupyter notebook."
      ]
    },
    {
      "cell_type": "code",
      "execution_count": 27,
      "metadata": {
        "colab": {
          "base_uri": "https://localhost:8080/",
          "height": 312
        },
        "id": "xnkUTOR0xPmQ",
        "outputId": "e155476d-2621-4899-e8a5-8f9bcc8ba472"
      },
      "outputs": [
        {
          "data": {
            "text/plain": [
              "Text(0, 0.5, 'Total Number of student')"
            ]
          },
          "execution_count": 27,
          "metadata": {},
          "output_type": "execute_result"
        },
        {
          "data": {
            "image/png": "[encoded data removed]",
            "text/plain": [
              "<Figure size 432x288 with 1 Axes>"
            ]
          },
          "metadata": {
            "needs_background": "light"
          },
          "output_type": "display_data"
        }
      ],
      "source": [
        "#printing the histogram for age column\n",
        "coursework_hridaya['age'].hist(color='blue')#passing color as parameter\n",
        "plt.title(\"Histogram of age\")#title of the histogram\n",
        "plt.xlabel(\"Age\")#x axis\n",
        "plt.ylabel(\"Total Number of student\")#y axis"
      ]
    },
    {
      "cell_type": "markdown",
      "metadata": {
        "id": "eVFkIWXjBa0O"
      },
      "source": [
        "In the above histogram, from the dataset age is taken and plotted. We can see \n",
        "the dispersion of age according to the total number of students.In the x axis(horizontal axis) age is plotted and in the y axis(vertical axis)there is total number of student.The y axis varies by 20 interval whereas age varies by 1 respectively.<br>\n",
        "From the above histogram, we can see that the data is scattered from age 15-22. The maxium number of student are of age 16 whereas minimum number of student are from age 22. There are around 80 students whose age is 15, more than 100 students whose age is 16, around 100 students whose age is 17,around 80 students whose age is  18, around 20 students whose age is 19,just over 5 students whose age is  20 and just few students whose age are 21 and 22 respectively."
      ]
    },
    {
      "cell_type": "code",
      "execution_count": 28,
      "metadata": {
        "colab": {
          "base_uri": "https://localhost:8080/",
          "height": 312
        },
        "id": "7PLlmQs3xqih",
        "outputId": "71e1805a-aa6b-4b5c-f1d9-ed598eb578d2"
      },
      "outputs": [
        {
          "data": {
            "text/plain": [
              "Text(0, 0.5, 'Total Number of student')"
            ]
          },
          "execution_count": 28,
          "metadata": {},
          "output_type": "execute_result"
        },
        {
          "data": {
            "image/png": "[encoded data removed]",
            "text/plain": [
              "<Figure size 432x288 with 1 Axes>"
            ]
          },
          "metadata": {
            "needs_background": "light"
          },
          "output_type": "display_data"
        }
      ],
      "source": [
        "#printing the histogram for absences column\n",
        "coursework_hridaya['absences'].hist(color='red')#passing color as parameter\n",
        "plt.title(\"Histogram of absences\")#title of the histogram\n",
        "plt.xlabel(\"Absences\")#x axis\n",
        "plt.ylabel(\"Total Number of student\") #y axis"
      ]
    },
    {
      "cell_type": "markdown",
      "metadata": {
        "id": "qBfpKA4dNYjP"
      },
      "source": [
        "In the above histogram,absences is plotted from the dataset. We can see the dispersion of data of absences from 0 to 70 among the total number of students.\n",
        "In the x axis(horizontal axis) we can see the number of absent days for students and in the y axis(vertical axis) we can see the total number of students as labelled in the histogram. The data in the x axis varies by 10 units whereas the total number of student varies by 50 units.\n",
        "<br>\n",
        "In the above histogram the maxium value for absences is 0 whereas minimun value for absences is 70. Which means many of the student were present everyday whereas there were few students that were absent for 70 days. There are more than 250 students who were not absent even a single day. From 0 to 10 days the data varies from 250 and reaches around 60. There are around 60 student who were absent for 10 days. From 10 to 20 the data varies from arounf 55 to around 25. There are about 25 students who were absent for 20 days.There are just about 10 student who were absent for 30 days. For 40,50,60 and 70 days there were very minimal student that were absent for following days respectively. From the histogram we can we the information about the absences of students.\n"
      ]
    },
    {
      "cell_type": "code",
      "execution_count": 29,
      "metadata": {
        "colab": {
          "base_uri": "https://localhost:8080/",
          "height": 312
        },
        "id": "44YK4elRxuJK",
        "outputId": "05e8a559-c1fa-4144-f43e-a6413f71e7a9"
      },
      "outputs": [
        {
          "data": {
            "text/plain": [
              "Text(0, 0.5, 'Total Number of student')"
            ]
          },
          "execution_count": 29,
          "metadata": {},
          "output_type": "execute_result"
        },
        {
          "data": {
            "image/png": "[encoded data removed]",
            "text/plain": [
              "<Figure size 432x288 with 1 Axes>"
            ]
          },
          "metadata": {
            "needs_background": "light"
          },
          "output_type": "display_data"
        }
      ],
      "source": [
        "#printing the histogram for G3 column\n",
        "coursework_hridaya['G3'].hist(color='coral')#passing color as a parameter\n",
        "plt.title(\"Histogram of G3\")#title of the histogram\n",
        "plt.xlabel(\"Grades(G3)\")#x axis\n",
        "plt.ylabel(\"Total Number of student\") #y axis"
      ]
    },
    {
      "cell_type": "markdown",
      "metadata": {
        "id": "I2keKyNFc0aW"
      },
      "source": [
        "In the above histogram, G3 is plotted from the dataset. We can see the dispersion of data from 0 to 20 in grades. The column G3 represents total grade of students of two schools. The x axis(horizontal axis) represents the grades G3 whereas the y axis(vertical axis) represents the total number of students.\n",
        "The data in x axis varies by 2.5 units whereas the data in y axis varies by 20 units.<br>\n",
        "From the above graph we can know that the minimum value of grade is 0 and the max value is 20.The grade obtained by maximum number of student is between 10 and 12.5 which is obtained by more than 100 students. Where was we can see that none of the students obtained grades from 3 to 4.The minimum grade stored by student is 5. \n",
        "<br>\n",
        "The majority grades obtained from student lies between 5 to 20. There are 20 students that have got 7.5 grade,60 students have got 10 whereas another 60 have got 12.5. Around 20 students received full grade or the max grade which is 20. Around  60 student got 15 grade and 20 students got 17.5. So as the grade of the student varies from school but this histogram is showing the total grade from both the school."
      ]
    },
    {
      "cell_type": "code",
      "execution_count": 30,
      "metadata": {
        "colab": {
          "base_uri": "https://localhost:8080/",
          "height": 298
        },
        "id": "wK698qK7OTOZ",
        "outputId": "8c720e81-94ce-4bad-bc96-5e53a22fc9c2"
      },
      "outputs": [
        {
          "data": {
            "text/plain": [
              "Text(0.5, 1.0, 'Box plot of age,absences and G3')"
            ]
          },
          "execution_count": 30,
          "metadata": {},
          "output_type": "execute_result"
        },
        {
          "data": {
            "image/png": "[encoded data removed]",
            "text/plain": [
              "<Figure size 432x288 with 1 Axes>"
            ]
          },
          "metadata": {
            "needs_background": "light"
          },
          "output_type": "display_data"
        }
      ],
      "source": [
        "#making a variable named plotting. Passing three columns names as parameter to print the boxplot in the same figure as required.\n",
        "plotting = coursework_hridaya.boxplot(column=['age', 'absences', 'G3']) \n",
        "plt.title(\"Box plot of age,absences and G3\")#title of the boxplot"
      ]
    },
    {
      "cell_type": "markdown",
      "metadata": {
        "id": "vFJ2riIwET65"
      },
      "source": [
        "In the above box plot we can see the data of three columns age,absences and G3.\n",
        "A boxplot divides the information into sections, each of which contains about 25% of the data inside the set. First, compare boxplots, then medians, inner quartiles, outliers, and finally look for skewness. If the median is in the middle of the box and the feathers on both sides are roughly the same, the distribution is symmetric. Therefore, the dispersion of absences is symmetrical. Similarly, the age distribution is closer to the bottom box, where it is negatively skewed, whereas the G3 distribution is positively skewed."
      ]
    },
    {
      "cell_type": "markdown",
      "metadata": {
        "id": "h8HC4RaJLRSQ"
      },
      "source": [
        "2.  Write a code to show a bar graph of the total number of students who passed the final term grouped\n",
        "according to the school that they belong to. Use proper labels in the graph and interpret the results."
      ]
    },
    {
      "cell_type": "code",
      "execution_count": 31,
      "metadata": {
        "colab": {
          "base_uri": "https://localhost:8080/",
          "height": 317
        },
        "id": "aspWUYw1LO5o",
        "outputId": "f3e1e996-6cfe-429d-9ead-c44ab04f5dd2"
      },
      "outputs": [
        {
          "data": {
            "text/plain": [
              "Text(0, 0.5, 'Number of Students')"
            ]
          },
          "execution_count": 31,
          "metadata": {},
          "output_type": "execute_result"
        },
        {
          "data": {
            "image/png": "[encoded data removed]",
            "text/plain": [
              "<Figure size 432x288 with 1 Axes>"
            ]
          },
          "metadata": {
            "needs_background": "light"
          },
          "output_type": "display_data"
        }
      ],
      "source": [
        "# print(coursework_hridaya.G3.max())\n",
        "plotting= coursework_hridaya[coursework_hridaya[\"G3\"] >=10].groupby(\"school\").size() #storing data in variable by comparing G3 data with average data to school\n",
        "plotting.plot(kind='bar', color='purple') # plotting bar with purple color\n",
        "plt.title(\"Number of Students Who Passed the Final Term by School\") # title for bargraph\n",
        "plt.xlabel(\"School\") # X-axis label \n",
        "plt.ylabel(\"Number of Students\") # title for Y-axis label"
      ]
    },
    {
      "cell_type": "markdown",
      "metadata": {
        "id": "K02aMTqmo4pa"
      },
      "source": [
        "The above bar graph represents the number of students who passed the final examination according to the school. The above data shows the number of students from two schools GP and MS and the total number of students who passed the final. We can see the number of students to pass from GP school is above 200 i.e. 236 and the number of students to pass from MS school is below 50 i.e. 29.\n",
        "This bar graph represents the total number of students grouped by school."
      ]
    },
    {
      "cell_type": "markdown",
      "metadata": {
        "id": "R5gkQ0kpKB-6"
      },
      "source": [
        "3. Write a code to show a pie chart of analysis of students’ grades as per their school. Use proper labels\n",
        "in the graph and interpret the results."
      ]
    },
    {
      "cell_type": "code",
      "execution_count": 32,
      "metadata": {
        "colab": {
          "base_uri": "https://localhost:8080/",
          "height": 988
        },
        "id": "aFtjqSDAPoGn",
        "outputId": "f2d6ae68-dffa-4482-800a-55df2ba2b616"
      },
      "outputs": [
        {
          "data": {
            "text/plain": [
              "<matplotlib.axes._subplots.AxesSubplot at 0x7f768f125220>"
            ]
          },
          "execution_count": 32,
          "metadata": {},
          "output_type": "execute_result"
        },
        {
          "data": {
            "image/png": "[encoded data removed]",
            "text/plain": [
              "<Figure size 1224x1224 with 1 Axes>"
            ]
          },
          "metadata": {},
          "output_type": "display_data"
        }
      ],
      "source": [
        "#assigning a variable plotting. query allows to check the string values and count it .\n",
        "plotting=coursework_hridaya.query(\"school=='GP'\")['G3'].value_counts()\n",
        "#using the variable plotting to plot the pie chart with figsize(17,17) size and their title\n",
        "plotting.plot(kind='pie', figsize=(17,17),title=\"Student grades as per their school\")"
      ]
    },
    {
      "cell_type": "markdown",
      "metadata": {
        "id": "YvOtcInv3LwK"
      },
      "source": [
        "In the above pie chart we can have the data for students as per their school.Each slice of the pie represents a different category or data point, and the size of the slice represents the data point's relative size or frequency. If the index of all data samples is in the blue segment of the 10 index, the student is in the 10th grade at her GP. Other indices display as expected. The data is filtered to include only rows with \"GP\" in the \"School\" column, and the \"G3\" column values ."
      ]
    },
    {
      "cell_type": "code",
      "execution_count": 33,
      "metadata": {
        "colab": {
          "base_uri": "https://localhost:8080/",
          "height": 988
        },
        "id": "laeZADJxYShX",
        "outputId": "1e42db44-7307-419e-f102-c3512eeef574"
      },
      "outputs": [
        {
          "data": {
            "text/plain": [
              "<matplotlib.axes._subplots.AxesSubplot at 0x7f768f0bee20>"
            ]
          },
          "execution_count": 33,
          "metadata": {},
          "output_type": "execute_result"
        },
        {
          "data": {
            "image/png": "[encoded data removed]",
            "text/plain": [
              "<Figure size 1224x1224 with 1 Axes>"
            ]
          },
          "metadata": {},
          "output_type": "display_data"
        }
      ],
      "source": [
        "#plotting is a variable used to make the pie chart.query allows to check the string values and count it .\n",
        "plotting=coursework_hridaya.query(\"school=='MS'\")['G3'].value_counts()\n",
        "#using the variable plotting to plot the pie chart with figsize(17,17) size and their title.\n",
        "plotting.plot(kind='pie', figsize=(17,17),title=\"Student grades as per their school\")"
      ]
    },
    {
      "cell_type": "markdown",
      "metadata": {
        "id": "ocIgVd3B6MTy"
      },
      "source": [
        "Each slice of this pie chart represents a different grade that students received at a specific school (labeled \"MS\" in the data). Each segment's size corresponds to the number of students who received that grade. If the indices of all data samples are at the purple intersection of her 9 indices, the student has a grade of 9 in her MS. Other indices are displayed like pie charts. The term \"responsibility\" refers to the act of determining whether or not a person is responsible for his or her own actions. The grade distribution of the students at that school is depicted using a pie chart."
      ]
    },
    {
      "cell_type": "markdown",
      "metadata": {
        "id": "NUWaH9i1KmxL"
      },
      "source": [
        "4.  Write a code to show a bar graph with the relation of the father’s occupation with the grade of the\n",
        "student. Use proper labels in the graph and interpret the results."
      ]
    },
    {
      "cell_type": "code",
      "execution_count": 34,
      "metadata": {
        "colab": {
          "base_uri": "https://localhost:8080/",
          "height": 509
        },
        "id": "CowjZCSJx22V",
        "outputId": "8980c727-c5a3-46f2-b86b-e11508974154"
      },
      "outputs": [
        {
          "data": {
            "text/plain": [
              "Text(0, 0.5, 'Total number of student')"
            ]
          },
          "execution_count": 34,
          "metadata": {},
          "output_type": "execute_result"
        },
        {
          "data": {
            "image/png": "[encoded data removed]",
            "text/plain": [
              "<Figure size 1080x504 with 1 Axes>"
            ]
          },
          "metadata": {
            "needs_background": "light"
          },
          "output_type": "display_data"
        }
      ],
      "source": [
        "# plotting is made as a variable where 2 columns are joined.\n",
        "plotting = pd.crosstab(coursework_hridaya.Fjob, coursework_hridaya.G3)\n",
        "# using the plotting variable to plot the bar graph. figsize is used to increase the size of the figure\n",
        "plotting.plot.bar(figsize=(15,7))\n",
        "plt.title(\"Relation of the father’s occupation with the grade of the student\")\n",
        "# writing the title of the bar graph\n",
        "plt.xlabel(\"Father's Job\")\n",
        "# label for x axis \n",
        "plt.ylabel(\"Total number of student\")\n",
        "# label for y axis."
      ]
    },
    {
      "cell_type": "markdown",
      "metadata": {
        "id": "5O39jDxwogwT"
      },
      "source": [
        "The above plotted bar graph shows the relation of father occupation with the grade of the student. Here we can see in the x axis(horizontal axis) there are different types of father`s job. Whereas in the y axis (vertical axis) there is total numbers of student.<br>\n",
        "The maxium grade is obtained by students whose father job is categorized as others. The least grade is obtained by the students whose father job is categorized as at_home. The students whose father job is at services has average values and health too. According to the index in the upper right corner of the image, approximately three students in the bar chart have a father who works from home \"at home,\" and approximately one student's father according to the red index. I work in healthcare and have about 25 students. According to the Lime Green Index, there are fathers who work in various fields, etc."
      ]
    }
  ],
  "metadata": {
    "colab": {
      "collapsed_sections": [
        "tGdDMRjWZLHE",
        "0qJkidM7-y7I",
        "q9JnSMRwEI_v"
      ],
      "provenance": []
    },
    "kernelspec": {
      "display_name": "Python 3",
      "name": "python3"
    },
    "language_info": {
      "name": "python"
    }
  },
  "nbformat": 4,
  "nbformat_minor": 0
}
